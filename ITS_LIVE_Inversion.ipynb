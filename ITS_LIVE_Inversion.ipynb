{
 "cells": [
  {
   "cell_type": "code",
   "execution_count": 1,
   "id": "231b3324-7ca3-49e4-abc7-ad8a1c8af3d2",
   "metadata": {},
   "outputs": [],
   "source": [
    "import numpy as np\n",
    "import pyproj\n",
    "import matplotlib.path as path\n",
    "import s3fs\n",
    "import zarr\n",
    "import matplotlib.pyplot as plt\n",
    "import scipy\n",
    "from datetime import timedelta\n",
    "from tqdm import tqdm\n",
    "import xarray as xr\n",
    "import re\n",
    "import pandas as pd\n",
    "import geopandas as gpd\n",
    "import matplotlib.path as mplp\n",
    "import ipyleaflet as ipyl\n",
    "from ipyleaflet import WMSLayer\n",
    "import ipywidgets as ipyw\n",
    "import json\n",
    "import pandas as pd\n",
    "from ipyleaflet import Map, WMSLayer, basemaps\n",
    "from ipywidgets import HTML\n",
    "from owslib.wms import WebMapService"
   ]
  },
  {
   "cell_type": "markdown",
   "id": "0da60816",
   "metadata": {},
   "source": [
    "# Select the glacier(s) your are interested in"
   ]
  },
  {
   "cell_type": "code",
   "execution_count": 5,
   "id": "35bd1047",
   "metadata": {},
   "outputs": [
    {
     "data": {
      "application/vnd.jupyter.widget-view+json": {
       "model_id": "5f4434c72f174d85a773c81451303a22",
       "version_major": 2,
       "version_minor": 0
      },
      "text/plain": [
       "Map(center=[0, 0], controls=(ZoomControl(options=['position', 'zoom_in_text', 'zoom_in_title', 'zoom_out_text'…"
      ]
     },
     "execution_count": 5,
     "metadata": {},
     "output_type": "execute_result"
    },
    {
     "name": "stdout",
     "output_type": "stream",
     "text": [
      "Clicked at (Lat: 35.73636913455734, Lon: 76.36491741599642)\n",
      "You have selected the glacier Baltoro Glacier, ID: RGI_SouthAsiaWest.6794 \n",
      "Clicked URL: http://its-live-data.s3.amazonaws.com/datacubes/v02/N30E070/ITS_LIVE_vel_EPSG32643_G0120_X650000_Y3950000.zarr\n",
      "All Clicked URLs: ['http://its-live-data.s3.amazonaws.com/datacubes/v02/N30E070/ITS_LIVE_vel_EPSG32643_G0120_X650000_Y3950000.zarr']\n",
      "Clicked URL: http://its-live-data.s3.amazonaws.com/datacubes/v02/N30E070/ITS_LIVE_vel_EPSG32643_G0120_X550000_Y3950000.zarr\n",
      "All Clicked URLs: ['http://its-live-data.s3.amazonaws.com/datacubes/v02/N30E070/ITS_LIVE_vel_EPSG32643_G0120_X650000_Y3950000.zarr', 'http://its-live-data.s3.amazonaws.com/datacubes/v02/N30E070/ITS_LIVE_vel_EPSG32643_G0120_X550000_Y3950000.zarr']\n"
     ]
    }
   ],
   "source": [
    "# Define the WMS layer\n",
    "wms_url = \"https://glims.org/geoserver/ows?SERVICE=WMS&\"\n",
    "wms_layer = WMSLayer(\n",
    "    url=wms_url,\n",
    "    layers='GLIMS:RGI',\n",
    "    transparent=True,\n",
    "    format='image/png'\n",
    ")\n",
    "\n",
    "\n",
    "# Create a Pandas DataFrame with X and Y coordinates\n",
    "#data = pd.DataFrame({'X': list(fx_map[::50]), 'Y': list(fy_map[::50])})\n",
    "\n",
    "# Map and label widgets\n",
    "map = ipyl.Map(basemap=basemaps.Esri.WorldImagery, center=(0, 0), zoom=2)\n",
    "label = ipyw.Label(layout=ipyw.Layout(width=\"100%\"))\n",
    "\n",
    "# Create a list to store clicked URLs\n",
    "urls = []\n",
    "\n",
    "# geojson layer with hover handler\n",
    "with open(\"catalog_v02.json\") as f:\n",
    "    geojson_data = json.load(f)\n",
    "\n",
    "for feature in geojson_data[\"features\"]:\n",
    "    feature[\"properties\"][\"style\"] = {\n",
    "        \"color\": \"grey\",\n",
    "        \"weight\": 1,\n",
    "        \"fillColor\": \"grey\",\n",
    "        \"fillOpacity\": 0.5,\n",
    "    }\n",
    "\n",
    "geojson_layer = ipyl.GeoJSON(data=geojson_data, hover_style={\"fillColor\": \"red\"})\n",
    "\n",
    "def hover_handler(event=None, feature=None, id=None, properties=None):\n",
    "    label.value = properties[\"zarr_url\"]\n",
    "\n",
    "def json_handler(event=None, feature=None, id=None, properties=None):\n",
    "    zarr_url = properties.get(\"zarr_url\", \"N/A\")\n",
    "    urls.append(zarr_url)\n",
    "    print(f\"Clicked URL: {zarr_url}\")\n",
    "    print(\"All Clicked URLs:\", urls)\n",
    "    \n",
    "wms = WebMapService(wms_url)\n",
    "\n",
    "# Initialize a list to store the geopandas dataframes\n",
    "gdf_list = []\n",
    "\n",
    "# Create a function to handle click events\n",
    "def click_handler(properties=None, **kwargs):\n",
    "    \n",
    "        \n",
    "    if kwargs.get('type') == 'contextmenu':\n",
    "        latlon = kwargs.get('coordinates')\n",
    "        lat, lon = latlon[0], latlon[1]\n",
    "        print(f\"Clicked at (Lat: {lat}, Lon: {lon})\")\n",
    "        \n",
    "        # Arrange the coordinates\n",
    "        \n",
    "        response = wms.getfeatureinfo(\n",
    "            layers=['GLIMS:RGI'],\n",
    "            srs='EPSG:4326',\n",
    "            bbox=(lon-0.001,lat-0.001,lon+0.001,lat+0.001),\n",
    "            size=(1,1),\n",
    "            format='image/jpeg',\n",
    "            query_layers=['GLIMS:RGI'],\n",
    "            info_format=\"application/json\",\n",
    "            xy=(0,0))\n",
    "        df = gpd.read_file(response)\n",
    "        print(f\"You have selected the glacier {df['NAME'].values[0]}, ID: {df['id'].values[0]} \")\n",
    "        gdf_list.append(df)  \n",
    "\n",
    "        \n",
    "\n",
    "\n",
    "geojson_layer.on_hover(hover_handler)\n",
    "geojson_layer.on_click(json_handler)\n",
    "\n",
    "\n",
    "map.add(geojson_layer)\n",
    "\n",
    "# Add points from the DataFrame to the map\n",
    "#for index, row in data.iterrows():\n",
    "#    marker = ipyl.Marker(location=(row['Y'], row['X']))\n",
    "#    map.add_layer(marker)\n",
    "\n",
    "# Enable zoom when scrolling with the mouse\n",
    "map.scroll_wheel_zoom = True\n",
    "ipyw.VBox([map, label])\n",
    "\n",
    "\n",
    "# Add the WMS layer to the map\n",
    "map.add_layer(wms_layer)\n",
    "\n",
    "# Add the click event handler to the map\n",
    "map.on_interaction(click_handler)\n",
    "\n",
    "map\n"
   ]
  },
  {
   "cell_type": "markdown",
   "id": "473a1079",
   "metadata": {},
   "source": [
    "#### Little peak at how the RGI geopandas dataframes are organized\n"
   ]
  },
  {
   "cell_type": "code",
   "execution_count": 6,
   "id": "f0dc9b7d",
   "metadata": {},
   "outputs": [
    {
     "data": {
      "text/html": [
       "<div>\n",
       "<style scoped>\n",
       "    .dataframe tbody tr th:only-of-type {\n",
       "        vertical-align: middle;\n",
       "    }\n",
       "\n",
       "    .dataframe tbody tr th {\n",
       "        vertical-align: top;\n",
       "    }\n",
       "\n",
       "    .dataframe thead th {\n",
       "        text-align: right;\n",
       "    }\n",
       "</style>\n",
       "<table border=\"1\" class=\"dataframe\">\n",
       "  <thead>\n",
       "    <tr style=\"text-align: right;\">\n",
       "      <th></th>\n",
       "      <th>id</th>\n",
       "      <th>CENLON</th>\n",
       "      <th>ZMAX</th>\n",
       "      <th>BGNDATE</th>\n",
       "      <th>ZMIN</th>\n",
       "      <th>RGIID</th>\n",
       "      <th>ASPECT</th>\n",
       "      <th>CENLAT</th>\n",
       "      <th>SLOPE</th>\n",
       "      <th>ZMED</th>\n",
       "      <th>...</th>\n",
       "      <th>TERMTYPE</th>\n",
       "      <th>O2REGION</th>\n",
       "      <th>STATUS</th>\n",
       "      <th>ENDDATE</th>\n",
       "      <th>FORM</th>\n",
       "      <th>SURGING</th>\n",
       "      <th>GLIMSID</th>\n",
       "      <th>O1REGION</th>\n",
       "      <th>NAME</th>\n",
       "      <th>geometry</th>\n",
       "    </tr>\n",
       "  </thead>\n",
       "  <tbody>\n",
       "    <tr>\n",
       "      <th>0</th>\n",
       "      <td>RGI_SouthAsiaWest.6794</td>\n",
       "      <td>76.4047</td>\n",
       "      <td>8569</td>\n",
       "      <td>20010721</td>\n",
       "      <td>3385</td>\n",
       "      <td>RGI60-14.06794</td>\n",
       "      <td>296</td>\n",
       "      <td>35.7416</td>\n",
       "      <td>23.8</td>\n",
       "      <td>5393</td>\n",
       "      <td>...</td>\n",
       "      <td>0</td>\n",
       "      <td>2</td>\n",
       "      <td>0</td>\n",
       "      <td>-9999999</td>\n",
       "      <td>0</td>\n",
       "      <td>3</td>\n",
       "      <td>G076405E35742N</td>\n",
       "      <td>14</td>\n",
       "      <td>Baltoro Glacier</td>\n",
       "      <td>MULTIPOLYGON (((76.54920 35.92760, 76.54830 35...</td>\n",
       "    </tr>\n",
       "  </tbody>\n",
       "</table>\n",
       "<p>1 rows × 24 columns</p>\n",
       "</div>"
      ],
      "text/plain": [
       "                       id   CENLON  ZMAX   BGNDATE  ZMIN           RGIID  \\\n",
       "0  RGI_SouthAsiaWest.6794  76.4047  8569  20010721  3385  RGI60-14.06794   \n",
       "\n",
       "   ASPECT   CENLAT  SLOPE  ZMED  ...  TERMTYPE  O2REGION  STATUS   ENDDATE  \\\n",
       "0     296  35.7416   23.8  5393  ...         0         2       0  -9999999   \n",
       "\n",
       "   FORM SURGING         GLIMSID O1REGION             NAME  \\\n",
       "0     0       3  G076405E35742N       14  Baltoro Glacier   \n",
       "\n",
       "                                            geometry  \n",
       "0  MULTIPOLYGON (((76.54920 35.92760, 76.54830 35...  \n",
       "\n",
       "[1 rows x 24 columns]"
      ]
     },
     "execution_count": 6,
     "metadata": {},
     "output_type": "execute_result"
    }
   ],
   "source": [
    "gdf_list[0]"
   ]
  },
  {
   "cell_type": "markdown",
   "id": "b1b64db3-849a-4dd4-85e0-9c37c6f017b0",
   "metadata": {},
   "source": [
    "# Select the datacubes overlapping your Glacier Of Interest (GOI)\n",
    "\n",
    "### 1 left-click over each grey cube overlapping your GOI. If you make a mistake, simply restart the cell"
   ]
  },
  {
   "cell_type": "markdown",
   "id": "82b5b85c-958b-4926-8aeb-0a071fcb058f",
   "metadata": {},
   "source": [
    "# Velocity interpolation for a single point time series\n",
    "\n",
    "Problem: Find a smooth regularly spaced timeseries of velocities given a set of average measurements of possibly overlapping and variable length time intervals\n",
    "\n",
    "Formulate as inverse problem: Find a velocity vector $\\mathbf{v}$ that minimizes the following functional:\n",
    "\n",
    "$U(\\mathbf{v},\\lambda) = \\|\\mathbf{vInv}\\|_r + \\lambda \\|A_{m}\\mathbf{vInv} - \\mathbf{vObs}\\|$\n",
    "\n",
    "\n",
    "\n",
    "Here $\\mathbf{vInv}$ is a vector of speeds that we are solving for at a regular interval (for example daily)\n",
    "\n",
    "$\\|.\\|_r$ is a roughness norm or a measure of the first derivative\n",
    "\n",
    "$\\lambda$ can be seen as a Lagrange multiplier (it enforces the condition in the expression behind it) or one can think of it as a relative weight of how well one wants to fit the data versus how smooth the resulting interpolated velocity should be.\n",
    "\n",
    "$\\mathbf{vObs}$ are the velocity measurements\n",
    "\n",
    "$\\mathbf{A_{m}}$ is an indexing matrix that specifies over which time interval a velocity was measured (and averages it appropriately).\n",
    "\n",
    "For a simple example, assume you want daily velocities for 6 days, and you have a measurement of the average velocity from day 1 to day 4 ($d_1$) and from day 3 to day 5 ($d_2$). We then have\n",
    "\n",
    "$$A_{m} = \\begin{bmatrix}\n",
    "\t\t1/4 & 1/4 & 1/4 & 1/4 & 0 & 0 \\\\ \n",
    "\t\t0 & 0 & 1/3 & 1/3 & 1/3 & 0\n",
    "\t\t\\end{bmatrix}$$\n",
    "\n",
    "The number of rows is equal to the number of measurements $N$ (same dimension as $\\mathbf{vObs}$ and the number of columns $M$ is the same dimension as $\\mathbf{vInv}$.\n",
    "\n",
    "In order to regularize the matrix in time, we create a matrix of regularization $\\mathbf{reg_{mat}}$ which dimensions are $(M-1)$ x $M$, for which each entry will be depending on the $\\lambda$ term and the order of the term we apply the regularization to (approximation of finite differences).\n",
    "\n",
    "For 1st derivative regularization: $f'(x) \\approx \\frac{f_{i+1} - f_{i}}{h}$ \n",
    "\n",
    "Which would result in: $$reg_{mat} = \\begin{bmatrix}\n",
    "\t\t\t\t\t\t\t\t\t\t-\\frac{\\lambda}{h} & \\frac{\\lambda}{h} & 0 & 0 & 0 & 0 \\\\ \n",
    "\t\t\t\t\t\t\t\t\t\t0 & -\\frac{\\lambda}{h} & \\frac{\\lambda}{h}& 0 & 0 & 0\n",
    "\t\t\t\t\t\t\t\t\t\t\\end{bmatrix}$$\n",
    "\n",
    "For 2nd derivative regularization: For 1st derivative regularization: $f''(x) \\approx \\frac{f_{i+2} - 2f_{i+1} + f_{i}}{h}$ \n",
    "\n",
    "Which would result in: $$reg_{mat} = \\begin{bmatrix}\n",
    "\t\t\t\t\t\t\t\t\t\t\\frac{\\lambda}{h^{2}} & -2\\frac{\\lambda}{h^{2}} & \\frac{\\lambda}{h^{2}} & 0 & 0 & 0 \\\\ \n",
    "\t\t\t\t\t\t\t\t\t\t0 & \\frac{\\lambda}{h^{2}} & -2\\frac{\\lambda}{h^{2}} & \\frac{\\lambda}{h^{2}} & 0 & 0\n",
    "\t\t\t\t\t\t\t\t\t\t\\end{bmatrix}$$\n",
    "\n",
    "And we finally obtain our main design matrix (with 2nd derivative), which is a concatenation of $A_{m}$ and $reg_{mat}$:\n",
    "\n",
    "$$A_{reg} = \\begin{bmatrix}\t\t\t\t\\\\ & & A_{m} & & & \\\\ \\\\\n",
    "\t\t\t\t\t\t\t\t\t\t\\frac{\\lambda}{h^{2}} & -2\\frac{\\lambda}{h^{2}} & \\frac{\\lambda}{h^{2}} & 0 & 0 & 0 \\\\ \n",
    "\t\t\t\t\t\t\t\t\t\t0 & \\frac{\\lambda}{h^{2}} & -2\\frac{\\lambda}{h^{2}} & \\frac{\\lambda}{h^{2}} & 0 & 0\n",
    "\t\t\t\t\t\t\t\t\t\t\\end{bmatrix}$$\n",
    "\n",
    "In which case we need to extend our vector $\\mathbf{vObs}$:\n",
    "\n",
    "$$\\begin{bmatrix} v_{0} \\\\ v_{1} \\\\ ... \\\\ v_{n} \\end{bmatrix} to \\begin{bmatrix} v_{0} \\\\ v_{1} \\\\ ... \\\\ v_{n} \\\\ 0 \\\\ 0 \\\\ ... \\\\ 0 \\end{bmatrix} $$\n",
    "\n",
    "With as many the amount of 0s appended being $(M-1)$\n",
    "\n",
    "The obtained velocity vector is then the size of the regular matrix in time. \n",
    "We can add a spatial regularization but it increases the computation time by 3. "
   ]
  },
  {
   "cell_type": "code",
   "execution_count": 7,
   "id": "c111c55b-237f-4634-9af5-03c0c6a65b8b",
   "metadata": {},
   "outputs": [],
   "source": [
    "# Gather the points on the boundary of the glacier (should later be implemented as a GUI loading the points of a glacier's periphery)\n",
    "#boundary_points = pickle.load(open('boundary.p','rb'))\n",
    "\n",
    "# Modify the urls so they can be opened by zarr (replace 'http' by 's3' and delete '.s3.amazonaws.com')\n",
    "urls = [re.sub(r'http', 's3', url) for url in urls]\n",
    "urls = [re.sub(r'\\.s3\\.amazonaws\\.com', '', url) for url in urls]\n",
    "\n",
    "# Create storing arrays for the coordinates on-glacier\n",
    "X_valid = []\n",
    "Y_valid = []\n",
    "X_tot = []\n",
    "Y_tot = []\n",
    "\n",
    "# Create an empty directoryimport pickle to hold many variables all tied to the datacubes\n",
    "data_dict = {}\n",
    "\n",
    "# We iterate through the different datacubes so they can each have one instance of the variables below\n",
    "for url in urls:\n",
    "    zarr_store = None # To store the datacube's information and access its variables\n",
    "    dates = None # To store the dates at which the inversion will give values\n",
    "    A_m = None # 1st part of the design matrix\n",
    "    reg_mat_Inv = None # Regularization in time, 2nd part of the design matrix\n",
    "    mission = None # If you want to invert specifically for one mission in particular ('S1','L8','L9', etc...)\n",
    "    index_sort = None # Indices representing the sorted dates (from older to most recent)\n",
    "    inds_mission = None # Indices representing the sorted dates per mission chosen\n",
    "    ind_tot = None # Indices representing the indices of the pixels on the GOI\n",
    "    valid_idx = None # Easting and Northing values of the indices above\n",
    "    \n",
    "    # Create a dictionary entry for the URL with the desired subsets\n",
    "    data_dict[url] = {\n",
    "        'zarr_store': zarr_store,\n",
    "        'dates': dates,\n",
    "        'A_m': A_m,\n",
    "        'reg_mat_Inv': reg_mat_Inv,\n",
    "        'mission': mission,\n",
    "        'index_sort': index_sort,\n",
    "        'inds_mission': inds_mission,\n",
    "        'dates': dates,\n",
    "        'ind_tot': ind_tot,\n",
    "        'valid_idx': valid_idx\n",
    "    }\n"
   ]
  },
  {
   "cell_type": "markdown",
   "id": "22be7aef-7d8a-4223-a174-7844461f45d9",
   "metadata": {},
   "source": [
    "## Datacubes Extent and Point Validity\n",
    "\n",
    "Designed to grab the extents of the datacubes, and determines which pixel belongs to the GOI. This way we do not lose time inverting for empty pixels."
   ]
  },
  {
   "cell_type": "code",
   "execution_count": 8,
   "id": "e6656fcf-0c92-4c0b-ac49-9f6b1a951836",
   "metadata": {},
   "outputs": [],
   "source": [
    "def get_extents(url, X_tot, Y_tot, X_valid, Y_valid, data_dict, mission, lamb, derivative, day_interval):\n",
    "\n",
    "    # Open the zarr files\n",
    "    fs = s3fs.S3FileSystem(anon=True)\n",
    "    store = zarr.open(s3fs.S3Map(url, s3=fs))\n",
    "   \n",
    "    # Update the dictionnary\n",
    "    data_dict[url]['zarr_store'] = store\n",
    "\n",
    "    # Get the cube's projection\n",
    "    proj_cube = store.attrs['projection']\n",
    "\n",
    "    # Load X and Y of the dataset\n",
    "    X = store['x'][:]\n",
    "    Y = store['y'][:]\n",
    "\n",
    "    # Store the arrays in the total list\n",
    "    X_tot.append(X)\n",
    "    Y_tot.append(Y)\n",
    "\n",
    "    # Load dimensions\n",
    "    shape_arr = store['v'].shape\n",
    "    \n",
    "    Xs, Ys = np.meshgrid(X, Y)\n",
    "    points = np.array((Xs.flatten(), Ys.flatten())).T\n",
    "\n",
    "    idx_valid = []\n",
    "    \n",
    "    for b in range(len(gdf_list)):\n",
    "        mpath = mplp.Path(gdf_list[b]['geometry'].to_crs(proj_cube).boundary.explode(index_parts = True).iloc[0])\n",
    "        glacier_mask = mpath.contains_points(points).reshape(Xs.shape)\n",
    "        # Grab the indices of the points inside the glacier\n",
    "        idx_valid.append(np.array(np.where(glacier_mask==True)))\n",
    "        \n",
    "    idx_valid = np.hstack(idx_valid)\n",
    "    # Store the valid indices\n",
    "    data_dict[url]['valid_idx'] = idx_valid\n",
    "    \n",
    "    # Store the coordinates of the valid Xs and Ys\n",
    "    X_valid.append([Xs[idx_valid[0][i], idx_valid[1][i]] for i in range(len(idx_valid[0]))])\n",
    "    Y_valid.append([Ys[idx_valid[0][i], idx_valid[1][i]] for i in range(len(idx_valid[0]))])\n",
    "    \n",
    "    return X_tot, Y_tot, X_valid, Y_valid"
   ]
  },
  {
   "cell_type": "markdown",
   "id": "7e9c32e9-9871-4dcd-9f7f-6c9f7a36d4c7",
   "metadata": {},
   "source": [
    "## Design Matrices\n",
    "\n",
    "This function creates 1 design matrix per cube. Knowing that each cube has different time stamps (different image pairs), but the possible dates for the image pairs are the same for every pixel of the datacube, we can pre-compute 1 design-matrix for each cube. We will simply mask-out the rows that represent time steps for which our point being inverted does not have any value."
   ]
  },
  {
   "cell_type": "code",
   "execution_count": 9,
   "id": "f505647f-13e6-42fc-b52b-f502d1569897",
   "metadata": {},
   "outputs": [],
   "source": [
    "def design_matrices(url, mission, lamb, derivative, day_interval):\n",
    "\n",
    "    # If you passed 'mission' as an argument, it grabs the appropriate values\n",
    "    if mission:\n",
    "        # Get the indices of the mission\n",
    "        filt1 = np.where(data_dict[urls[url]]['zarr_store']['satellite_img1'][:] == mission)\n",
    "        filt2 = np.where(data_dict[urls[url]]['zarr_store']['satellite_img2'][:] == mission)\n",
    "        inds_mission = np.intersect1d(filt1[0],filt2[0])\n",
    "\n",
    "        # Grab only the indices corresponding to the missions\n",
    "        mid_dates = np.datetime64('1970-01-01') + np.array(data_dict[urls[url]]['zarr_store']['mid_date'][:], dtype='timedelta64[D]')[inds_mission]\n",
    "        im1 = np.datetime64('1970-01-01') + np.array(data_dict[urls[url]]['zarr_store']['acquisition_date_img1'][:], dtype='timedelta64[D]')[inds_mission]\n",
    "        im2 = np.datetime64('1970-01-01') + np.array(data_dict[urls[url]]['zarr_store']['acquisition_date_img2'][:], dtype='timedelta64[D]')[inds_mission]\n",
    "    else:\n",
    "        # If 'None' was passed as a mission argument, we grab all the available data.\n",
    "        inds_mission = None\n",
    "        mid_dates = np.datetime64('1970-01-01') + np.array(data_dict[urls[url]]['zarr_store']['mid_date'][:], dtype='timedelta64[D]')\n",
    "        im1 = np.datetime64('1970-01-01') + np.array(data_dict[urls[url]]['zarr_store']['acquisition_date_img1'][:], dtype='timedelta64[D]')\n",
    "        im2 = np.datetime64('1970-01-01') + np.array(data_dict[urls[url]]['zarr_store']['acquisition_date_img2'][:], dtype='timedelta64[D]')\n",
    "    \n",
    "    # Get some arrays\n",
    "    index_sort = np.argsort(np.datetime64('1970-01-01') + np.array(data_dict[urls[url]]['zarr_store']['mid_date'][:], dtype='timedelta64[D]'))\n",
    "    mid_dates = mid_dates[index_sort]\n",
    "    im1 = im1[index_sort]\n",
    "    im2 = im2[index_sort]\n",
    "\n",
    "\n",
    "    # Check which im is the smallest (first image, it changes depending on ITS_LIVE's version)\n",
    "    if im2[0] < im1[0]:\n",
    "        temp = im1\n",
    "        im1 = im2\n",
    "        im2 = temp\n",
    "\n",
    "\n",
    "    # Create the date array with the new interval dates\n",
    "    dates_nonum = np.arange(mid_dates[0], mid_dates[-1], timedelta(days=day_interval)).astype(np.datetime64)\n",
    "\n",
    "    # Convert to numerical\n",
    "    dates = (dates_nonum - np.datetime64('1970-01-01T00:00:00Z'))/np.timedelta64(1, 's')\n",
    "    dt_start = (im1 - np.datetime64('1970-01-01T00:00:00Z'))/np.timedelta64(1, 's')\n",
    "    dt_end = (im2 - np.datetime64('1970-01-01T00:00:00Z'))/np.timedelta64(1, 's')\n",
    "\n",
    "    # --------------- DESIGN MATRICES --------------- \n",
    "\n",
    "    # Initialize matrix\n",
    "    A_m = np.zeros((mid_dates.shape[0],dates.shape[0]))\n",
    "\n",
    "    # We have to iterate through the satellite pairs that actually gave a measurement\n",
    "    for j in range(1, len(mid_dates)):\n",
    "    # current contents of your for loop\n",
    "\n",
    "        # Find the middate that is the closest to dt_start (supequal)\n",
    "        start = np.argmin(np.abs(dates-dt_start[j]))\n",
    "\n",
    "        # Find the middate that is closest to dt_end (infequal)\n",
    "        end = np.argmin(dt_end[j] - dates[dates <= dt_end[j]])\n",
    "\n",
    "        # Divide 1 by the amount of middates between d_start and d_end \n",
    "        if end == A_m.shape[1]-1: # If the mid_date is at the end of the array (acquisition im2 equals last mid_date)\n",
    "            A_m[j, start:] = 1/(1+A_m.shape[1]-start)\n",
    "        else: # If the measurement is in A's bounds temporally (we can have a satellite pair with the 2nd pair being outside of our mid_dates)\n",
    "            A_m[j, start:end+1] = 1/(1+end-start) # Attribute to each pixel in the timescale of the satellite pair, the 1/amount of pixel in the pairmid_dates.shape\n",
    "\n",
    "\n",
    "    # Initialize regularization matrix\n",
    "    if derivative == 1:\n",
    "        reg_mat_Inv = np.zeros((A_m.shape[1] -1, A_m.shape[1]))\n",
    "\n",
    "        for j in range(A_m.shape[1] -1):\n",
    "            reg_mat_Inv[j, j] = -lamb/day_interval\n",
    "            reg_mat_Inv[j, j+1] = lamb/day_interval\n",
    "\n",
    "    elif derivative == 2:\n",
    "        # Initialize 2nd derivative regularization matrix\n",
    "        reg_mat_Inv = np.zeros((A_m.shape[1] -1, A_m.shape[1]))\n",
    "\n",
    "        for j in range(A_m.shape[1] -2):\n",
    "            reg_mat_Inv[j, j] = lamb/(day_interval**2)\n",
    "            reg_mat_Inv[j, j+1] = -2*lamb/(day_interval**2)\n",
    "            reg_mat_Inv[j, j+2] = lamb/(day_interval**2)\n",
    "            \n",
    "    data_dict[urls[url]]['A_m'] = A_m\n",
    "    data_dict[urls[url]]['reg_mat_Inv'] = reg_mat_Inv\n",
    "    data_dict[urls[url]]['mission'] = mission\n",
    "    data_dict[urls[url]]['index_sort'] = index_sort\n",
    "    data_dict[urls[url]]['inds_mission'] = inds_mission\n",
    "    data_dict[urls[url]]['dates'] = dates_nonum\n",
    "            \n",
    "    return data_dict"
   ]
  },
  {
   "cell_type": "markdown",
   "id": "42f29821-8654-4700-82ff-8d3549508da5",
   "metadata": {},
   "source": [
    "## Inversion function\n",
    "\n",
    "We input the observed velocities, the dictionnary of the datacube from which these velocities are taken from, and the no_data value of the velocities.\n",
    "We reduce the shape of the design matrix in Y (rows) by squeezing-out the rows corresponding to dates at which the point we invert for does not have any values.\n"
   ]
  },
  {
   "cell_type": "code",
   "execution_count": 10,
   "id": "4d1eebf4-43ac-41e7-b3b8-15259309c421",
   "metadata": {},
   "outputs": [],
   "source": [
    "def Inv_reg(vObs, data, fillvalue):\n",
    " \n",
    "    # Grab observed velocities\n",
    "    vObs = vObs[data['index_sort']]\n",
    "    \n",
    "    # Filter out the missions we don't want\n",
    "    if mission:\n",
    "        vObs = vObs[data['inds_mission']]  \n",
    "    \n",
    "    # Mask the NaNs so we don't compute the inversion for empty rows\n",
    "    mask = np.logical_not(np.equal(vObs, fillvalue))\n",
    "    \n",
    "    # Create a masked velocity vector\n",
    "    vObs_masked = vObs[mask]\n",
    "    \n",
    "    # Append regularization terms to dObs\n",
    "    vObs_masked= np.hstack((vObs_masked, np.zeros((data['reg_mat_Inv'].shape[0]))))\n",
    "     \n",
    "    # Assemble the design matrix\n",
    "    A_des = np.vstack((data['A_m'][mask], data['reg_mat_Inv']))\n",
    "    \n",
    "    # Invert the velocities\n",
    "    vInv = np.linalg.solve(A_des.T@A_des,A_des.T@vObs_masked)\n",
    "    \n",
    "    return vInv"
   ]
  },
  {
   "cell_type": "markdown",
   "id": "dd56987b-ef3d-4f43-94b1-71d9df1ebcfb",
   "metadata": {},
   "source": [
    "# **Select Your Parameters**"
   ]
  },
  {
   "cell_type": "code",
   "execution_count": 11,
   "id": "4ea18360-e87d-4771-9730-4644c0eef257",
   "metadata": {},
   "outputs": [],
   "source": [
    "mission = None # 'None' if you want all the data, 'S1' for Sentinel-1 only, 'L' for Landsat only, etc.. .\n",
    "lamb = 10 # Smoothing coefficient: the higher the value, the more the inversion favors a smooth output. BAD for surging glaciers, GOOD for non-surging glaciers\n",
    "derivative = 2 # Derivative degree for the inversion. Doesn't change much unless you have a specific reasong to choose 1 or 2 (1st or 2nd derivative)\n",
    "day_interval = 12 # Amount of days in between each inversion value. The higher, the faster the inversion. But you also lose in temporal resolution. 12 here because Sentinel-1 repeat-time is 12."
   ]
  },
  {
   "cell_type": "markdown",
   "id": "83569266-539a-4c45-bef6-638097a7033c",
   "metadata": {},
   "source": [
    "### Get the extents of each datacube"
   ]
  },
  {
   "cell_type": "code",
   "execution_count": 12,
   "id": "23fa7079-fbcb-4d04-b596-c54b291ac19a",
   "metadata": {},
   "outputs": [
    {
     "name": "stderr",
     "output_type": "stream",
     "text": [
      "  0%|          | 0/2 [00:00<?, ?it/s]a:\\System\\Users\\whisk\\anaconda3\\envs\\glaciervel-YES\\Lib\\site-packages\\matplotlib\\path.py:129: ShapelyDeprecationWarning: The array interface is deprecated and will no longer work in Shapely 2.0. Convert the '.coords' to a numpy array instead.\n",
      "  vertices = _to_unmasked_float_array(vertices)\n",
      " 50%|█████     | 1/2 [01:28<01:28, 88.81s/it]a:\\System\\Users\\whisk\\anaconda3\\envs\\glaciervel-YES\\Lib\\site-packages\\matplotlib\\path.py:129: ShapelyDeprecationWarning: The array interface is deprecated and will no longer work in Shapely 2.0. Convert the '.coords' to a numpy array instead.\n",
      "  vertices = _to_unmasked_float_array(vertices)\n",
      "100%|██████████| 2/2 [02:59<00:00, 89.82s/it]\n"
     ]
    }
   ],
   "source": [
    "for url in tqdm(range(len(urls))):\n",
    "    X_tot, Y_tot, X_valid, Y_valid = get_extents(urls[url], X_tot, Y_tot, X_valid, Y_valid, data_dict, mission, lamb, derivative, day_interval)"
   ]
  },
  {
   "cell_type": "markdown",
   "id": "148d1609-afbf-423a-8135-b504d9e89ed4",
   "metadata": {},
   "source": [
    "### For each datacube's valid indices (on the GOI), get the corresponding coordinates in a layer that gathers all the GOI parts spread accross the datacubes"
   ]
  },
  {
   "cell_type": "code",
   "execution_count": 13,
   "id": "ad43b6cc-78e3-4e2d-ade9-31c2df7a0bdd",
   "metadata": {},
   "outputs": [],
   "source": [
    "# Create Eastings and Northings arrays based on the Eastings and Northings of the datacubes\n",
    "X_arr = np.unique(np.hstack(X_tot))\n",
    "Y_arr = np.unique(np.hstack(Y_tot))\n",
    "\n",
    "# Crop to the GOI (so we avoid over-filling our matrix with NaNs)\n",
    "x_min = np.where(np.min(np.hstack(X_valid)) == X_arr)[0][0]\n",
    "x_max = np.where(np.max(np.hstack(X_valid)) == X_arr)[0][0]\n",
    "y_min = np.where(np.min(np.hstack(Y_valid)) == Y_arr)[0][0]\n",
    "y_max = np.where(np.max(np.hstack(Y_valid)) == Y_arr)[0][0]\n",
    "\n",
    "\n",
    "# And now search the indices corresponding to the coordinates \n",
    "x_matches = np.hstack([[np.where(i == X_arr[min(x_min-1, x_max+1):max(x_min-1, x_max+1)])[0][0] for i in row] for row in X_valid]).astype(int)\n",
    "y_matches = np.hstack([[np.where(i == Y_arr[min(y_min-1, y_max+1):max(y_min-1, y_max+1)])[0][0] for i in row] for row in Y_valid]).astype(int)\n",
    "\n",
    "# Create an array representing the glacier\n",
    "template = np.zeros((len(Y_arr[min(y_min-1, y_max+1):max(y_min-1, y_max+1)]), len( X_arr[min(x_min-1, x_max+1):max(x_min-1, x_max+1)])))\n",
    "template[y_matches, x_matches] = 1"
   ]
  },
  {
   "cell_type": "markdown",
   "id": "c422dd34-9d52-41b9-b668-1b45eecfd545",
   "metadata": {},
   "source": [
    "Verify that the glacier looks like what we would expect"
   ]
  },
  {
   "cell_type": "code",
   "execution_count": 14,
   "id": "978b811f-151d-491f-8486-4ce43e1aa64a",
   "metadata": {},
   "outputs": [
    {
     "data": {
      "text/plain": [
       "<matplotlib.collections.QuadMesh at 0x233ec0f2e90>"
      ]
     },
     "execution_count": 14,
     "metadata": {},
     "output_type": "execute_result"
    },
    {
     "data": {
      "image/png": "[encoded data removed]",
      "text/plain": [
       "<Figure size 640x480 with 1 Axes>"
      ]
     },
     "metadata": {},
     "output_type": "display_data"
    }
   ],
   "source": [
    "plt.pcolormesh(X_arr[x_min-1:x_max+1], Y_arr[y_min-1:y_max+1], template)"
   ]
  },
  {
   "cell_type": "markdown",
   "id": "0cd316b2-8ad9-4de3-9658-9821ded1c0e8",
   "metadata": {},
   "source": [
    "### Create the design matrices for each datacube"
   ]
  },
  {
   "cell_type": "code",
   "execution_count": null,
   "id": "c31b2eff-2dd6-4ba6-ab44-74398a3f43e8",
   "metadata": {},
   "outputs": [
    {
     "name": "stderr",
     "output_type": "stream",
     "text": [
      "  0%|          | 0/4 [00:00<?, ?it/s]/tmp/ipykernel_5947/2717921431.py:39: DeprecationWarning: parsing timezone aware datetimes is deprecated; this will raise an error in the future\n",
      "  dates = (dates_nonum - np.datetime64('1970-01-01T00:00:00Z'))/np.timedelta64(1, 's')\n",
      "/tmp/ipykernel_5947/2717921431.py:40: DeprecationWarning: parsing timezone aware datetimes is deprecated; this will raise an error in the future\n",
      "  dt_start = (im1 - np.datetime64('1970-01-01T00:00:00Z'))/np.timedelta64(1, 's')\n",
      "/tmp/ipykernel_5947/2717921431.py:41: DeprecationWarning: parsing timezone aware datetimes is deprecated; this will raise an error in the future\n",
      "  dt_end = (im2 - np.datetime64('1970-01-01T00:00:00Z'))/np.timedelta64(1, 's')\n",
      "/tmp/ipykernel_5947/2717921431.py:62: RuntimeWarning: divide by zero encountered in scalar divide\n",
      "  A_m[j, start:end+1] = 1/(1+end-start) # Attribute to each pixel in the timescale of the satellite pair, the 1/amount of pixel in the pairmid_dates.shape\n",
      "100%|██████████| 4/4 [01:01<00:00, 15.48s/it]\n"
     ]
    }
   ],
   "source": [
    "for i in tqdm(range(len(urls))):\n",
    "    design_matrices(i, mission, lamb, derivative, day_interval)"
   ]
  },
  {
   "cell_type": "markdown",
   "id": "6c96b28b-b7ea-49a8-b7c3-6e5797f9bd29",
   "metadata": {},
   "source": [
    "### Gather the dates for each datacube. They might not always correspond."
   ]
  },
  {
   "cell_type": "code",
   "execution_count": null,
   "id": "6e511e17-57dd-4af8-9358-083eaa49a655",
   "metadata": {},
   "outputs": [],
   "source": [
    "# Get the total amount of temporal steps\n",
    "ind_tot = []\n",
    "for i in urls:\n",
    "    ind_tot.append(data_dict[i]['dates'])\n",
    "\n",
    "ind_tot = np.unique(np.hstack(ind_tot))\n",
    "\n",
    "for i in urls:\n",
    "    data_dict[i]['ind_tot'] = np.array([np.where(c == ind_tot)[0][0] for c in data_dict[urls[0]]['dates']])"
   ]
  },
  {
   "cell_type": "markdown",
   "id": "53927e57-2b42-4c76-851c-da62767a9e15",
   "metadata": {},
   "source": [
    "### Calculate the point-inversion for all the GOI pixels in the datacubes for Vx and Vy."
   ]
  },
  {
   "cell_type": "code",
   "execution_count": null,
   "id": "e95701ef-de4a-464c-84fc-946036a9967f",
   "metadata": {},
   "outputs": [
    {
     "name": "stderr",
     "output_type": "stream",
     "text": [
      "  1%|          | 2736/327782 [16:46<32:52:52,  2.75it/s]"
     ]
    },
    {
     "ename": "KeyboardInterrupt",
     "evalue": "",
     "output_type": "error",
     "traceback": [
      "\u001b[0;31m---------------------------------------------------------------------------\u001b[0m",
      "\u001b[0;31mKeyboardInterrupt\u001b[0m                         Traceback (most recent call last)",
      "\u001b[1;32m/media/vdevauxchupin/Games/Inversions/ITS_LIVE_Inversion(1).ipynb Cell 30\u001b[0m in \u001b[0;36m<cell line: 13>\u001b[0;34m()\u001b[0m\n\u001b[1;32m     <a href='vscode-notebook-cell:/media/vdevauxchupin/Games/Inversions/ITS_LIVE_Inversion%281%29.ipynb#X41sZmlsZQ%3D%3D?line=17'>18</a>\u001b[0m \u001b[39mfor\u001b[39;00m V \u001b[39min\u001b[39;00m \u001b[39mrange\u001b[39m(\u001b[39mlen\u001b[39m(valid_idx[\u001b[39m0\u001b[39m])):\n\u001b[1;32m     <a href='vscode-notebook-cell:/media/vdevauxchupin/Games/Inversions/ITS_LIVE_Inversion%281%29.ipynb#X41sZmlsZQ%3D%3D?line=18'>19</a>\u001b[0m     vxObs \u001b[39m=\u001b[39m data_dict[urls[c]][\u001b[39m'\u001b[39m\u001b[39mzarr_store\u001b[39m\u001b[39m'\u001b[39m][\u001b[39m'\u001b[39m\u001b[39mvx\u001b[39m\u001b[39m'\u001b[39m][:, valid_idx[\u001b[39m0\u001b[39m][V], valid_idx[\u001b[39m1\u001b[39m][V]]\n\u001b[0;32m---> <a href='vscode-notebook-cell:/media/vdevauxchupin/Games/Inversions/ITS_LIVE_Inversion%281%29.ipynb#X41sZmlsZQ%3D%3D?line=19'>20</a>\u001b[0m     vyObs \u001b[39m=\u001b[39m data_dict[urls[c]][\u001b[39m'\u001b[39;49m\u001b[39mzarr_store\u001b[39;49m\u001b[39m'\u001b[39;49m][\u001b[39m'\u001b[39;49m\u001b[39mvy\u001b[39;49m\u001b[39m'\u001b[39;49m][:, valid_idx[\u001b[39m0\u001b[39;49m][V], valid_idx[\u001b[39m1\u001b[39;49m][V]]\n\u001b[1;32m     <a href='vscode-notebook-cell:/media/vdevauxchupin/Games/Inversions/ITS_LIVE_Inversion%281%29.ipynb#X41sZmlsZQ%3D%3D?line=20'>21</a>\u001b[0m     vxInv[data_dict[urls[c]][\u001b[39m'\u001b[39m\u001b[39mind_tot\u001b[39m\u001b[39m'\u001b[39m], y_matches[i], x_matches[i]] \u001b[39m=\u001b[39m Inv_reg(vxObs, data_dict[urls[c]], fillvx)\n\u001b[1;32m     <a href='vscode-notebook-cell:/media/vdevauxchupin/Games/Inversions/ITS_LIVE_Inversion%281%29.ipynb#X41sZmlsZQ%3D%3D?line=21'>22</a>\u001b[0m     vyInv[data_dict[urls[c]][\u001b[39m'\u001b[39m\u001b[39mind_tot\u001b[39m\u001b[39m'\u001b[39m], y_matches[i], x_matches[i]] \u001b[39m=\u001b[39m Inv_reg(vyObs, data_dict[urls[c]], fillvy)\n",
      "File \u001b[0;32m~/anaconda3/envs/glaciervel/lib/python3.10/site-packages/zarr/core.py:807\u001b[0m, in \u001b[0;36mArray.__getitem__\u001b[0;34m(self, selection)\u001b[0m\n\u001b[1;32m    805\u001b[0m     result \u001b[39m=\u001b[39m \u001b[39mself\u001b[39m\u001b[39m.\u001b[39mvindex[selection]\n\u001b[1;32m    806\u001b[0m \u001b[39melse\u001b[39;00m:\n\u001b[0;32m--> 807\u001b[0m     result \u001b[39m=\u001b[39m \u001b[39mself\u001b[39;49m\u001b[39m.\u001b[39;49mget_basic_selection(pure_selection, fields\u001b[39m=\u001b[39;49mfields)\n\u001b[1;32m    808\u001b[0m \u001b[39mreturn\u001b[39;00m result\n",
      "File \u001b[0;32m~/anaconda3/envs/glaciervel/lib/python3.10/site-packages/zarr/core.py:933\u001b[0m, in \u001b[0;36mArray.get_basic_selection\u001b[0;34m(self, selection, out, fields)\u001b[0m\n\u001b[1;32m    930\u001b[0m     \u001b[39mreturn\u001b[39;00m \u001b[39mself\u001b[39m\u001b[39m.\u001b[39m_get_basic_selection_zd(selection\u001b[39m=\u001b[39mselection, out\u001b[39m=\u001b[39mout,\n\u001b[1;32m    931\u001b[0m                                         fields\u001b[39m=\u001b[39mfields)\n\u001b[1;32m    932\u001b[0m \u001b[39melse\u001b[39;00m:\n\u001b[0;32m--> 933\u001b[0m     \u001b[39mreturn\u001b[39;00m \u001b[39mself\u001b[39;49m\u001b[39m.\u001b[39;49m_get_basic_selection_nd(selection\u001b[39m=\u001b[39;49mselection, out\u001b[39m=\u001b[39;49mout,\n\u001b[1;32m    934\u001b[0m                                         fields\u001b[39m=\u001b[39;49mfields)\n",
      "File \u001b[0;32m~/anaconda3/envs/glaciervel/lib/python3.10/site-packages/zarr/core.py:976\u001b[0m, in \u001b[0;36mArray._get_basic_selection_nd\u001b[0;34m(self, selection, out, fields)\u001b[0m\n\u001b[1;32m    970\u001b[0m \u001b[39mdef\u001b[39;00m \u001b[39m_get_basic_selection_nd\u001b[39m(\u001b[39mself\u001b[39m, selection, out\u001b[39m=\u001b[39m\u001b[39mNone\u001b[39;00m, fields\u001b[39m=\u001b[39m\u001b[39mNone\u001b[39;00m):\n\u001b[1;32m    971\u001b[0m     \u001b[39m# implementation of basic selection for array with at least one dimension\u001b[39;00m\n\u001b[1;32m    972\u001b[0m \n\u001b[1;32m    973\u001b[0m     \u001b[39m# setup indexer\u001b[39;00m\n\u001b[1;32m    974\u001b[0m     indexer \u001b[39m=\u001b[39m BasicIndexer(selection, \u001b[39mself\u001b[39m)\n\u001b[0;32m--> 976\u001b[0m     \u001b[39mreturn\u001b[39;00m \u001b[39mself\u001b[39;49m\u001b[39m.\u001b[39;49m_get_selection(indexer\u001b[39m=\u001b[39;49mindexer, out\u001b[39m=\u001b[39;49mout, fields\u001b[39m=\u001b[39;49mfields)\n",
      "File \u001b[0;32m~/anaconda3/envs/glaciervel/lib/python3.10/site-packages/zarr/core.py:1267\u001b[0m, in \u001b[0;36mArray._get_selection\u001b[0;34m(self, indexer, out, fields)\u001b[0m\n\u001b[1;32m   1261\u001b[0m \u001b[39mif\u001b[39;00m \u001b[39mnot\u001b[39;00m \u001b[39mhasattr\u001b[39m(\u001b[39mself\u001b[39m\u001b[39m.\u001b[39mchunk_store, \u001b[39m\"\u001b[39m\u001b[39mgetitems\u001b[39m\u001b[39m\"\u001b[39m) \u001b[39mor\u001b[39;00m \\\n\u001b[1;32m   1262\u001b[0m    \u001b[39many\u001b[39m(\u001b[39mmap\u001b[39m(\u001b[39mlambda\u001b[39;00m x: x \u001b[39m==\u001b[39m \u001b[39m0\u001b[39m, \u001b[39mself\u001b[39m\u001b[39m.\u001b[39mshape)):\n\u001b[1;32m   1263\u001b[0m     \u001b[39m# sequentially get one key at a time from storage\u001b[39;00m\n\u001b[1;32m   1264\u001b[0m     \u001b[39mfor\u001b[39;00m chunk_coords, chunk_selection, out_selection \u001b[39min\u001b[39;00m indexer:\n\u001b[1;32m   1265\u001b[0m \n\u001b[1;32m   1266\u001b[0m         \u001b[39m# load chunk selection into output array\u001b[39;00m\n\u001b[0;32m-> 1267\u001b[0m         \u001b[39mself\u001b[39;49m\u001b[39m.\u001b[39;49m_chunk_getitem(chunk_coords, chunk_selection, out, out_selection,\n\u001b[1;32m   1268\u001b[0m                             drop_axes\u001b[39m=\u001b[39;49mindexer\u001b[39m.\u001b[39;49mdrop_axes, fields\u001b[39m=\u001b[39;49mfields)\n\u001b[1;32m   1269\u001b[0m \u001b[39melse\u001b[39;00m:\n\u001b[1;32m   1270\u001b[0m     \u001b[39m# allow storage to get multiple items at once\u001b[39;00m\n\u001b[1;32m   1271\u001b[0m     lchunk_coords, lchunk_selection, lout_selection \u001b[39m=\u001b[39m \u001b[39mzip\u001b[39m(\u001b[39m*\u001b[39mindexer)\n",
      "File \u001b[0;32m~/anaconda3/envs/glaciervel/lib/python3.10/site-packages/zarr/core.py:1966\u001b[0m, in \u001b[0;36mArray._chunk_getitem\u001b[0;34m(self, chunk_coords, chunk_selection, out, out_selection, drop_axes, fields)\u001b[0m\n\u001b[1;32m   1962\u001b[0m ckey \u001b[39m=\u001b[39m \u001b[39mself\u001b[39m\u001b[39m.\u001b[39m_chunk_key(chunk_coords)\n\u001b[1;32m   1964\u001b[0m \u001b[39mtry\u001b[39;00m:\n\u001b[1;32m   1965\u001b[0m     \u001b[39m# obtain compressed data for chunk\u001b[39;00m\n\u001b[0;32m-> 1966\u001b[0m     cdata \u001b[39m=\u001b[39m \u001b[39mself\u001b[39;49m\u001b[39m.\u001b[39;49mchunk_store[ckey]\n\u001b[1;32m   1968\u001b[0m \u001b[39mexcept\u001b[39;00m \u001b[39mKeyError\u001b[39;00m:\n\u001b[1;32m   1969\u001b[0m     \u001b[39m# chunk not initialized\u001b[39;00m\n\u001b[1;32m   1970\u001b[0m     \u001b[39mif\u001b[39;00m \u001b[39mself\u001b[39m\u001b[39m.\u001b[39m_fill_value \u001b[39mis\u001b[39;00m \u001b[39mnot\u001b[39;00m \u001b[39mNone\u001b[39;00m:\n",
      "File \u001b[0;32m~/anaconda3/envs/glaciervel/lib/python3.10/site-packages/zarr/storage.py:724\u001b[0m, in \u001b[0;36mKVStore.__getitem__\u001b[0;34m(self, key)\u001b[0m\n\u001b[1;32m    723\u001b[0m \u001b[39mdef\u001b[39;00m \u001b[39m__getitem__\u001b[39m(\u001b[39mself\u001b[39m, key):\n\u001b[0;32m--> 724\u001b[0m     \u001b[39mreturn\u001b[39;00m \u001b[39mself\u001b[39;49m\u001b[39m.\u001b[39;49m_mutable_mapping[key]\n",
      "File \u001b[0;32m~/anaconda3/envs/glaciervel/lib/python3.10/site-packages/fsspec/mapping.py:137\u001b[0m, in \u001b[0;36mFSMap.__getitem__\u001b[0;34m(self, key, default)\u001b[0m\n\u001b[1;32m    135\u001b[0m k \u001b[39m=\u001b[39m \u001b[39mself\u001b[39m\u001b[39m.\u001b[39m_key_to_str(key)\n\u001b[1;32m    136\u001b[0m \u001b[39mtry\u001b[39;00m:\n\u001b[0;32m--> 137\u001b[0m     result \u001b[39m=\u001b[39m \u001b[39mself\u001b[39;49m\u001b[39m.\u001b[39;49mfs\u001b[39m.\u001b[39;49mcat(k)\n\u001b[1;32m    138\u001b[0m \u001b[39mexcept\u001b[39;00m \u001b[39mself\u001b[39m\u001b[39m.\u001b[39mmissing_exceptions:\n\u001b[1;32m    139\u001b[0m     \u001b[39mif\u001b[39;00m default \u001b[39mis\u001b[39;00m \u001b[39mnot\u001b[39;00m \u001b[39mNone\u001b[39;00m:\n",
      "File \u001b[0;32m~/anaconda3/envs/glaciervel/lib/python3.10/site-packages/fsspec/asyn.py:111\u001b[0m, in \u001b[0;36msync_wrapper.<locals>.wrapper\u001b[0;34m(*args, **kwargs)\u001b[0m\n\u001b[1;32m    108\u001b[0m \u001b[39m@functools\u001b[39m\u001b[39m.\u001b[39mwraps(func)\n\u001b[1;32m    109\u001b[0m \u001b[39mdef\u001b[39;00m \u001b[39mwrapper\u001b[39m(\u001b[39m*\u001b[39margs, \u001b[39m*\u001b[39m\u001b[39m*\u001b[39mkwargs):\n\u001b[1;32m    110\u001b[0m     \u001b[39mself\u001b[39m \u001b[39m=\u001b[39m obj \u001b[39mor\u001b[39;00m args[\u001b[39m0\u001b[39m]\n\u001b[0;32m--> 111\u001b[0m     \u001b[39mreturn\u001b[39;00m sync(\u001b[39mself\u001b[39;49m\u001b[39m.\u001b[39;49mloop, func, \u001b[39m*\u001b[39;49margs, \u001b[39m*\u001b[39;49m\u001b[39m*\u001b[39;49mkwargs)\n",
      "File \u001b[0;32m~/anaconda3/envs/glaciervel/lib/python3.10/site-packages/fsspec/asyn.py:84\u001b[0m, in \u001b[0;36msync\u001b[0;34m(loop, func, timeout, *args, **kwargs)\u001b[0m\n\u001b[1;32m     81\u001b[0m asyncio\u001b[39m.\u001b[39mrun_coroutine_threadsafe(_runner(event, coro, result, timeout), loop)\n\u001b[1;32m     82\u001b[0m \u001b[39mwhile\u001b[39;00m \u001b[39mTrue\u001b[39;00m:\n\u001b[1;32m     83\u001b[0m     \u001b[39m# this loops allows thread to get interrupted\u001b[39;00m\n\u001b[0;32m---> 84\u001b[0m     \u001b[39mif\u001b[39;00m event\u001b[39m.\u001b[39;49mwait(\u001b[39m1\u001b[39;49m):\n\u001b[1;32m     85\u001b[0m         \u001b[39mbreak\u001b[39;00m\n\u001b[1;32m     86\u001b[0m     \u001b[39mif\u001b[39;00m timeout \u001b[39mis\u001b[39;00m \u001b[39mnot\u001b[39;00m \u001b[39mNone\u001b[39;00m:\n",
      "File \u001b[0;32m~/anaconda3/envs/glaciervel/lib/python3.10/threading.py:607\u001b[0m, in \u001b[0;36mEvent.wait\u001b[0;34m(self, timeout)\u001b[0m\n\u001b[1;32m    605\u001b[0m signaled \u001b[39m=\u001b[39m \u001b[39mself\u001b[39m\u001b[39m.\u001b[39m_flag\n\u001b[1;32m    606\u001b[0m \u001b[39mif\u001b[39;00m \u001b[39mnot\u001b[39;00m signaled:\n\u001b[0;32m--> 607\u001b[0m     signaled \u001b[39m=\u001b[39m \u001b[39mself\u001b[39;49m\u001b[39m.\u001b[39;49m_cond\u001b[39m.\u001b[39;49mwait(timeout)\n\u001b[1;32m    608\u001b[0m \u001b[39mreturn\u001b[39;00m signaled\n",
      "File \u001b[0;32m~/anaconda3/envs/glaciervel/lib/python3.10/threading.py:324\u001b[0m, in \u001b[0;36mCondition.wait\u001b[0;34m(self, timeout)\u001b[0m\n\u001b[1;32m    322\u001b[0m \u001b[39melse\u001b[39;00m:\n\u001b[1;32m    323\u001b[0m     \u001b[39mif\u001b[39;00m timeout \u001b[39m>\u001b[39m \u001b[39m0\u001b[39m:\n\u001b[0;32m--> 324\u001b[0m         gotit \u001b[39m=\u001b[39m waiter\u001b[39m.\u001b[39;49macquire(\u001b[39mTrue\u001b[39;49;00m, timeout)\n\u001b[1;32m    325\u001b[0m     \u001b[39melse\u001b[39;00m:\n\u001b[1;32m    326\u001b[0m         gotit \u001b[39m=\u001b[39m waiter\u001b[39m.\u001b[39macquire(\u001b[39mFalse\u001b[39;00m)\n",
      "\u001b[0;31mKeyboardInterrupt\u001b[0m: "
     ]
    }
   ],
   "source": [
    "vxInv = np.zeros((len(ind_tot), template.shape[0], template.shape[1]))\n",
    "vyInv = np.zeros((vxInv.shape))\n",
    "\n",
    "# Define the total number of iterations\n",
    "total_iterations = len(y_matches)\n",
    "\n",
    "# Create a tqdm object with dynamic_ncols=False to suppress intermediate updates\n",
    "# Create a tqdm object with a larger mininterval to suppress intermediate updates\n",
    "progress_bar = tqdm(total=total_iterations, dynamic_ncols=False, mininterval=1.0)\n",
    "\n",
    "\n",
    "i = 0\n",
    "for c in range(len(urls)):\n",
    "    valid_idx = data_dict[urls[c]]['valid_idx']\n",
    "    fillvx = data_dict[urls[c]]['zarr_store']['vx'].fill_value\n",
    "    fillvy = data_dict[urls[c]]['zarr_store']['vy'].fill_value\n",
    "    \n",
    "    for V in range(len(valid_idx[0])):\n",
    "        vxObs = data_dict[urls[c]]['zarr_store']['vx'][:, valid_idx[0][V], valid_idx[1][V]]\n",
    "        vyObs = data_dict[urls[c]]['zarr_store']['vy'][:, valid_idx[0][V], valid_idx[1][V]]\n",
    "        vxInv[data_dict[urls[c]]['ind_tot'], y_matches[i], x_matches[i]] = Inv_reg(vxObs, data_dict[urls[c]], fillvx)\n",
    "        vyInv[data_dict[urls[c]]['ind_tot'], y_matches[i], x_matches[i]] = Inv_reg(vyObs, data_dict[urls[c]], fillvy)\n",
    "        \n",
    "        i += 1\n",
    "        progress_bar.update(1)  # Update the progress bar\n",
    "\n",
    "# Close the progress bar\n",
    "progress_bar.close()\n",
    "        "
   ]
  },
  {
   "cell_type": "markdown",
   "id": "03620662-0b66-4abd-a025-c9cf20ce0d05",
   "metadata": {},
   "source": [
    "### Save the results in a netcdf file"
   ]
  },
  {
   "cell_type": "code",
   "execution_count": null,
   "id": "389b2c52-5a2d-4e85-a742-f0b16a1d1647",
   "metadata": {},
   "outputs": [
    {
     "name": "stdout",
     "output_type": "stream",
     "text": [
      "Writing to Inverted_Cube.nc\n",
      "[########################################] | 100% Completed | 606.20 ms\n"
     ]
    }
   ],
   "source": [
    "# Create a new dataset with vx and vy, using attributes from 'ds'\n",
    "new_ds = xr.Dataset(\n",
    "    {\n",
    "        \"vx\": ([\"time\", \"y\", \"x\"], vxInv),\n",
    "        \"vy\": ([\"time\", \"y\", \"x\"], vyInv),\n",
    "    },\n",
    "    coords={\n",
    "        \"time\": ind_tot,\n",
    "        \"x\": X_arr[x_min-1:x_max+1],\n",
    "        \"y\": Y_arr[y_min-1:y_max+1],\n",
    "    },\n",
    "    attrs=data_dict[urls[0]]['zarr_store'].attrs,\n",
    ").chunk({'time': 1, 'x': 100, 'y': 100})\n",
    "\n",
    "from dask.diagnostics import ProgressBar\n",
    "write_job = new_ds.to_netcdf('Inverted_Cube.nc', compute=False)\n",
    "with ProgressBar():\n",
    "    print(f\"Writing to {'Inverted_Cube.nc'}\")\n",
    "    write_job.compute()"
   ]
  },
  {
   "cell_type": "code",
   "execution_count": null,
   "id": "4308fc20",
   "metadata": {},
   "outputs": [],
   "source": [
    "test = xr.open_dataset('Inverted_Cube.nc')"
   ]
  },
  {
   "cell_type": "code",
   "execution_count": null,
   "id": "c8f829ce",
   "metadata": {},
   "outputs": [
    {
     "data": {
      "text/plain": [
       "<matplotlib.image.AxesImage at 0x7f9a59e4ac50>"
      ]
     },
     "execution_count": 20,
     "metadata": {},
     "output_type": "execute_result"
    },
    {
     "data": {
      "image/png": "[encoded data removed]",
      "text/plain": [
       "<Figure size 640x480 with 1 Axes>"
      ]
     },
     "metadata": {},
     "output_type": "display_data"
    }
   ],
   "source": [
    "plt.imshow(np.nanmean(test.vx, axis=0))"
   ]
  },
  {
   "cell_type": "code",
   "execution_count": null,
   "id": "00134484",
   "metadata": {},
   "outputs": [],
   "source": [
    "V = 100\n",
    "c = 0\n",
    "\n",
    "plt.figure(figsize=(15, 10))\n",
    "test = data_dict[urls[c]]['zarr_store']['vx'][:, valid_idx[0][V], valid_idx[1][V]].astype(np.float32)\n",
    "test[test<-25000] = np.nan\n",
    "plt.scatter(data_dict[urls[c]]['zarr_store']['mid_date'][:], test, label='Observed')\n",
    "plt.plot(ind_tot, vxInv[:, y_matches[500], x_matches[500]], color = 'orange',label='Inverted')\n",
    "plt.legend()"
   ]
  }
 ],
 "metadata": {
  "kernelspec": {
   "display_name": "glaciervel",
   "language": "python",
   "name": "python3"
  },
  "language_info": {
   "codemirror_mode": {
    "name": "ipython",
    "version": 3
   },
   "file_extension": ".py",
   "mimetype": "text/x-python",
   "name": "python",
   "nbconvert_exporter": "python",
   "pygments_lexer": "ipython3",
   "version": "3.11.0"
  }
 },
 "nbformat": 4,
 "nbformat_minor": 5
}
