{
 "cells": [
  {
   "cell_type": "raw",
   "id": "a189f50c",
   "metadata": {},
   "source": [
    "---\n",
    "output-file: interactive.html\n",
    "title: '02: interactive_data_selection'\n",
    "skip_showdoc: true\n",
    "skip_exec: true\n",
    "---\n",
    "\n"
   ]
  },
  {
   "cell_type": "code",
   "execution_count": 3,
   "id": "fd978434-dd19-418a-80cc-4583c1451f44",
   "metadata": {},
   "outputs": [],
   "source": [
    "#| default_exp interactive"
   ]
  },
  {
   "cell_type": "code",
   "execution_count": 4,
   "id": "e50bb56d-624f-4d5c-9fe2-233eedf2ff16",
   "metadata": {},
   "outputs": [],
   "source": [
    "#| hide\n",
    "from nbdev.showdoc import *\n",
    "import nbdev\n",
    "from nbdev import nbdev_export"
   ]
  },
  {
   "cell_type": "code",
   "execution_count": 13,
   "id": "08983433-43ac-445c-83e3-64a0af1dc359",
   "metadata": {},
   "outputs": [],
   "source": [
    "#| export\n",
    "import numpy as np\n",
    "import pyproj\n",
    "import matplotlib.path as path\n",
    "import s3fs\n",
    "import zarr\n",
    "import matplotlib.pyplot as plt\n",
    "import scipy\n",
    "from datetime import timedelta\n",
    "from tqdm import tqdm\n",
    "import xarray as xr\n",
    "import re\n",
    "import pandas as pd\n",
    "import geopandas as gpd\n",
    "import matplotlib.path as mplp\n",
    "import ipyleaflet as ipyl\n",
    "from ipyleaflet import WMSLayer\n",
    "import ipywidgets as ipyw\n",
    "import json\n",
    "import pandas as pd\n",
    "from ipyleaflet import Map, WMSLayer, basemaps, GeoData\n",
    "from ipywidgets import HTML\n",
    "from owslib.wms import WebMapService\n",
    "import ipywidgets as widgets\n",
    "from ipywidgets import Label, VBox\n",
    "from owslib.wfs import WebFeatureService\n",
    "from requests import Request\n",
    "import urllib.request, json \n"
   ]
  },
  {
   "cell_type": "code",
   "execution_count": 14,
   "id": "2df999ab-d17d-406a-bcfd-cd0afaef5ce7",
   "metadata": {},
   "outputs": [],
   "source": [
    "from ITS_LIVE_TOOL import obj_setup"
   ]
  },
  {
   "cell_type": "code",
   "execution_count": 15,
   "id": "dec54668-6e4f-47b1-b2ef-35a71b0a33f3",
   "metadata": {},
   "outputs": [],
   "source": [
    "#| export\n",
    "class Widget():\n",
    "    '''this is an interactive map widget to streamline access itslive data. \n",
    "    left and right click for rgi info about a selected location and corresponding url \n",
    "    to ITS_LIVE image pair time series granule\n",
    "    '''\n",
    "    def __init__(self):\n",
    "\n",
    "        self.wms_url = \"https://glims.org/geoserver/ows?SERVICE=WMS&\"\n",
    "        self.map, self.label = self.make_map()\n",
    "        \n",
    "        self.coordinates_label = widgets.Label(value=\"Clicked Coordinates: \")\n",
    "        self.coordinates_output = widgets.Output()\n",
    "        self.map.on_interaction(self.click_handler)\n",
    "        self.geojson_layer = self._make_geojson_layer()\n",
    "        self.wms_layer = self._make_wms_layer()\n",
    "        self.wms = self._make_wms_obj()\n",
    "        self.map.geojson_layer = self.map.add(self.geojson_layer)\n",
    "        self.map.wms_layer = self.map.add(self.wms_layer)\n",
    "        self.geojson_layer.on_click(self._json_handler)\n",
    "        self.geojson_layer.on_hover(self._hover_handler)\n",
    "        self.added_glaciers =  []\n",
    "        self.urls = []\n",
    "        self.added_coords = []\n",
    "        self.added_urls = []\n",
    "\n",
    "    def make_map(self):\n",
    "        \n",
    "        map = ipyl.Map(basemap=basemaps.Esri.WorldImagery, center=(0, 0), zoom=2)\n",
    "        label = ipyw.Label(layout=ipyw.Layout(width=\"100%\"))\n",
    "        map.scroll_wheel_zoom = True\n",
    "        return map, label\n",
    "        \n",
    "    def _make_wms_layer(self):\n",
    "\n",
    "        wms_layer = WMSLayer(\n",
    "            url = self.wms_url,\n",
    "            layers = 'GLIMS:RGI',\n",
    "            transparent=True,\n",
    "            format = 'image/png'\n",
    "        )\n",
    "        return wms_layer\n",
    "        \n",
    "    def _make_wms_obj(self):\n",
    "        wms = WebMapService(self.wms_url)\n",
    "        return wms\n",
    "\n",
    "    def _make_geojson_layer(self):\n",
    "        # geojson layer with hover handler\n",
    "        with urllib.request.urlopen('https://its-live-data.s3.amazonaws.com/datacubes/catalog_v02.json') as url:\n",
    "\n",
    "            geojson_data = json.load(url)\n",
    "        \n",
    "        for feature in geojson_data[\"features\"]:\n",
    "            feature[\"properties\"][\"style\"] = {\n",
    "                \"color\": \"grey\",\n",
    "                \"weight\": 1,\n",
    "                \"fillColor\": \"grey\",\n",
    "                \"fillOpacity\": 0.5,\n",
    "            }\n",
    "        \n",
    "        geojson_layer = ipyl.GeoJSON(data=geojson_data, hover_style={\"fillColor\": \"red\"})\n",
    "        return geojson_layer\n",
    "\n",
    "    def _hover_handler(self, event=None, feature=None, id=None, properties=None):\n",
    "        self.label.value = properties[\"zarr_url\"]\n",
    "\n",
    "    def _json_handler(self, event=None, feature=None, id=None, properties=None):\n",
    "        zarr_url = properties.get(\"zarr_url\", \"N/A\")\n",
    "        self.urls.append(zarr_url)\n",
    "        print(f\"Clicked URL: {zarr_url}\")\n",
    "        print(\"All Clicked URLs:\", self.urls)\n",
    "\n",
    "        #self.added_urls.append(urls)\n",
    "\n",
    "    def click_handler(self, properties=None, **kwargs):\n",
    "        \n",
    "        if kwargs.get('type') == 'contextmenu':\n",
    "            latlon = kwargs.get('coordinates')\n",
    "            lat, lon = latlon[0], latlon[1]\n",
    "            print(f\"Clicked at (Lat: {lat}, Lon: {lon})\")\n",
    "            self.added_coords.append([lat, lon])\n",
    "            \n",
    "            # Arrange the coordinates\n",
    "            \n",
    "            response = self.wms.getfeatureinfo(\n",
    "                layers=['GLIMS:RGI'],\n",
    "                srs='EPSG:4326',\n",
    "                bbox=(lon-0.001,lat-0.001,lon+0.001,lat+0.001),\n",
    "                size=(1,1),\n",
    "                format='image/jpeg',\n",
    "                query_layers=['GLIMS:RGI'],\n",
    "                info_format=\"application/json\",\n",
    "                xy=(0,0))\n",
    "            df = gpd.read_file(response)\n",
    "            #self.added_glacier.append(df)\n",
    "            print(f\"You have selected the glacier {df['NAME'].values[0]}, ID: {df['RGIID'].values[0]} \")\n",
    "            #gdf_list.append(df)\n",
    "            self.added_glaciers.append(df)\n",
    "            #print(len(self.added_glacier))\n",
    "\n",
    "\n",
    "            #return gdf_list\n",
    "            \n",
    "    def update_coordinates_label(self):\n",
    "        self.coordinates_label.value = \"Clicked Coordinates: \" + str(self.coordinates)\n",
    "\n",
    "    def clear_coordinates(self, b):\n",
    "        self.coordinates = []\n",
    "        self.update_coordinates_label()\n",
    "        \n",
    "    def get_coordinates(self):\n",
    "        return self.coordinates\n",
    "    def display(self):\n",
    "        return VBox([self.map, self.coordinates_label, self.coordinates_output])"
   ]
  },
  {
   "cell_type": "code",
   "execution_count": 16,
   "id": "61d78449-1be7-4ede-8293-a496a886e88c",
   "metadata": {},
   "outputs": [],
   "source": [
    "#| hide\n",
    "\n",
    "w = Widget()"
   ]
  },
  {
   "cell_type": "code",
   "execution_count": 17,
   "id": "ce030171-cd72-4144-ba5b-3ecde8262d0c",
   "metadata": {},
   "outputs": [
    {
     "data": {
      "application/vnd.jupyter.widget-view+json": {
       "model_id": "966aeb4be6124008b44417a826847926",
       "version_major": 2,
       "version_minor": 0
      },
      "text/plain": [
       "VBox(children=(Map(center=[0, 0], controls=(ZoomControl(options=['position', 'zoom_in_text', 'zoom_in_title', …"
      ]
     },
     "execution_count": 17,
     "metadata": {},
     "output_type": "execute_result"
    }
   ],
   "source": [
    "#| hide \n",
    "\n",
    "w.display()"
   ]
  },
  {
   "cell_type": "code",
   "execution_count": null,
   "id": "c60ac265-1092-46ba-ac10-8287fdb44c08",
   "metadata": {},
   "outputs": [
    {
     "data": {
      "text/html": [
       "<div>\n",
       "<style scoped>\n",
       "    .dataframe tbody tr th:only-of-type {\n",
       "        vertical-align: middle;\n",
       "    }\n",
       "\n",
       "    .dataframe tbody tr th {\n",
       "        vertical-align: top;\n",
       "    }\n",
       "\n",
       "    .dataframe thead th {\n",
       "        text-align: right;\n",
       "    }\n",
       "</style>\n",
       "<table border=\"1\" class=\"dataframe\">\n",
       "  <thead>\n",
       "    <tr style=\"text-align: right;\">\n",
       "      <th></th>\n",
       "      <th>id</th>\n",
       "      <th>CENLON</th>\n",
       "      <th>ZMAX</th>\n",
       "      <th>BGNDATE</th>\n",
       "      <th>ZMIN</th>\n",
       "      <th>RGIID</th>\n",
       "      <th>ASPECT</th>\n",
       "      <th>CENLAT</th>\n",
       "      <th>SLOPE</th>\n",
       "      <th>ZMED</th>\n",
       "      <th>...</th>\n",
       "      <th>TERMTYPE</th>\n",
       "      <th>O2REGION</th>\n",
       "      <th>STATUS</th>\n",
       "      <th>ENDDATE</th>\n",
       "      <th>FORM</th>\n",
       "      <th>SURGING</th>\n",
       "      <th>GLIMSID</th>\n",
       "      <th>O1REGION</th>\n",
       "      <th>NAME</th>\n",
       "      <th>geometry</th>\n",
       "    </tr>\n",
       "  </thead>\n",
       "  <tbody>\n",
       "    <tr>\n",
       "      <th>0</th>\n",
       "      <td>RGI_Alaska.14679</td>\n",
       "      <td>-141.716</td>\n",
       "      <td>3638</td>\n",
       "      <td>20100919</td>\n",
       "      <td>4</td>\n",
       "      <td>RGI60-01.14683</td>\n",
       "      <td>179</td>\n",
       "      <td>60.329</td>\n",
       "      <td>13</td>\n",
       "      <td>1447</td>\n",
       "      <td>...</td>\n",
       "      <td>1</td>\n",
       "      <td>5</td>\n",
       "      <td>0</td>\n",
       "      <td>-9999999</td>\n",
       "      <td>0</td>\n",
       "      <td>9</td>\n",
       "      <td>G218284E60329N</td>\n",
       "      <td>1</td>\n",
       "      <td>Yahtse Glacier</td>\n",
       "      <td>MULTIPOLYGON (((-141.48470 60.40750, -141.4836...</td>\n",
       "    </tr>\n",
       "    <tr>\n",
       "      <th>0</th>\n",
       "      <td>RGI_Alaska.13631</td>\n",
       "      <td>-142.072</td>\n",
       "      <td>5381</td>\n",
       "      <td>20100910</td>\n",
       "      <td>3</td>\n",
       "      <td>RGI60-01.13635</td>\n",
       "      <td>273</td>\n",
       "      <td>60.461</td>\n",
       "      <td>9</td>\n",
       "      <td>1525</td>\n",
       "      <td>...</td>\n",
       "      <td>2</td>\n",
       "      <td>5</td>\n",
       "      <td>0</td>\n",
       "      <td>-9999999</td>\n",
       "      <td>0</td>\n",
       "      <td>9</td>\n",
       "      <td>G217928E60461N</td>\n",
       "      <td>1</td>\n",
       "      <td>Bering Glacier</td>\n",
       "      <td>MULTIPOLYGON (((-140.87550 60.64370, -140.8743...</td>\n",
       "    </tr>\n",
       "  </tbody>\n",
       "</table>\n",
       "<p>2 rows × 24 columns</p>\n",
       "</div>"
      ],
      "text/plain": [
       "                 id   CENLON  ZMAX   BGNDATE  ZMIN           RGIID  ASPECT  \\\n",
       "0  RGI_Alaska.14679 -141.716  3638  20100919     4  RGI60-01.14683     179   \n",
       "0  RGI_Alaska.13631 -142.072  5381  20100910     3  RGI60-01.13635     273   \n",
       "\n",
       "   CENLAT  SLOPE  ZMED  ...  TERMTYPE  O2REGION  STATUS   ENDDATE  FORM  \\\n",
       "0  60.329     13  1447  ...         1         5       0  -9999999     0   \n",
       "0  60.461      9  1525  ...         2         5       0  -9999999     0   \n",
       "\n",
       "  SURGING         GLIMSID O1REGION            NAME  \\\n",
       "0       9  G218284E60329N        1  Yahtse Glacier   \n",
       "0       9  G217928E60461N        1  Bering Glacier   \n",
       "\n",
       "                                            geometry  \n",
       "0  MULTIPOLYGON (((-141.48470 60.40750, -141.4836...  \n",
       "0  MULTIPOLYGON (((-140.87550 60.64370, -140.8743...  \n",
       "\n",
       "[2 rows x 24 columns]"
      ]
     },
     "execution_count": null,
     "metadata": {},
     "output_type": "execute_result"
    }
   ],
   "source": [
    "#| hide \n",
    "#pd.concat(w.added_glaciers)"
   ]
  },
  {
   "cell_type": "code",
   "execution_count": null,
   "id": "8920314b-e651-4aac-9aff-2745c25a2382",
   "metadata": {},
   "outputs": [
    {
     "data": {
      "text/plain": [
       "[60.35915664478289, -141.8789647067248]"
      ]
     },
     "execution_count": null,
     "metadata": {},
     "output_type": "execute_result"
    }
   ],
   "source": [
    "#| hide \n",
    "#w.added_coords[0]"
   ]
  },
  {
   "cell_type": "code",
   "execution_count": null,
   "id": "10b15c85-3169-4983-acb0-4caac3431025",
   "metadata": {},
   "outputs": [],
   "source": [
    "#| hide\n",
    "def create_glacier_from_click(w_obj, i):\n",
    "    '''this function takes clicked information (from a single click, not all clicked points) and returns a `Glacier` type object\n",
    "    '''\n",
    "    name = w_obj.added_glaciers[i]['NAME']\n",
    "    rgi_id =  w_obj.added_glaciers[i]['RGIID'].iloc[0]\n",
    "    utm_crs = str(w_obj.added_glaciers[i].estimate_utm_crs())\n",
    "    rgi_gpdf = w_obj.added_glaciers[i]\n",
    "    print(rgi_gpdf)\n",
    "    glacier = obj_setup.Glacier(name, rgi_id, utm_crs, 'widget', rgi_gpdf)\n",
    "\n",
    "    return glacier\n",
    "                                "
   ]
  },
  {
   "cell_type": "code",
   "execution_count": null,
   "id": "022b7f52-9ef2-4dc2-838f-72c0e83b25d4",
   "metadata": {},
   "outputs": [],
   "source": [
    "#| hide\n",
    "def create_glacier_point_from_click(w_obj, i, label):\n",
    "    ''' \n",
    "    this function takes clicked information (from a single, most recent click and returns a glacier point object\n",
    "    '''\n",
    "    var_ls = ['v','vy','vx','v_error','mapping','satellite_img1','satellite_img2','acquisition_date_img1', 'acquisition_date_img2']\n",
    "\n",
    "\n",
    "    glacier_pt = obj_setup.Glacier_Point(w_obj.added_glaciers[i]['NAME'], label,  w_obj.added_glaciers[i]['RGIID'].iloc[0], [w_obj.added_coords[i][1], w_obj.added_coords[i][0]], var_ls)\n",
    "    #note , need to add test for cases where itslive is in a different crs than gpd.estimate_utm_crs() expects\n",
    "    return glacier_pt\n",
    "                                                                                                                                "
   ]
  },
  {
   "cell_type": "code",
   "execution_count": null,
   "id": "9affd9eb-84ed-4e77-aea3-e9cda79b3f48",
   "metadata": {},
   "outputs": [],
   "source": [
    "#| hide \n",
    "def create_glacier_centerline_from_click(w_obj, i):\n",
    "    '''\n",
    "    this function takes clicked information and returns a glacier centerline object\n",
    "    '''\n",
    "    glacier_cl = obj_setup.Glacier_Centerline(w_obj.added_glaciers[i]['NAME'], w_obj.added_glaciers[i]['RGIID'].iloc[0])\n",
    "\n",
    "    return glacier_cl"
   ]
  },
  {
   "cell_type": "markdown",
   "id": "d88d6220-eb77-420a-a529-0c869fa8ba2d",
   "metadata": {},
   "source": [
    "## When just one glaciers is clicked / creating a single object: "
   ]
  },
  {
   "cell_type": "code",
   "execution_count": null,
   "id": "deb7612d-6e3f-4b58-a1ef-b485e344aedf",
   "metadata": {},
   "outputs": [
    {
     "name": "stdout",
     "output_type": "stream",
     "text": [
      "                 id   CENLON  ZMAX   BGNDATE  ZMIN           RGIID  ASPECT  \\\n",
      "0  RGI_Alaska.14679 -141.716  3638  20100919     4  RGI60-01.14683     179   \n",
      "\n",
      "   CENLAT  SLOPE  ZMED  ...  TERMTYPE  O2REGION  STATUS   ENDDATE  FORM  \\\n",
      "0  60.329     13  1447  ...         1         5       0  -9999999     0   \n",
      "\n",
      "  SURGING         GLIMSID O1REGION            NAME  \\\n",
      "0       9  G218284E60329N        1  Yahtse Glacier   \n",
      "\n",
      "                                            geometry  \n",
      "0  MULTIPOLYGON (((-141.48470 60.40750, -141.4836...  \n",
      "\n",
      "[1 rows x 24 columns]\n",
      "widget\n",
      "0    RGI60-01.14683\n",
      "Name: RGIID, dtype: object\n",
      "0    RGI60-01.14683\n",
      "Name: RGIID, dtype: object\n"
     ]
    }
   ],
   "source": [
    "#| hide\n",
    "glacier = create_glacier_from_click(w, 0)"
   ]
  },
  {
   "cell_type": "code",
   "execution_count": null,
   "id": "98e16e12-d75b-44ff-92da-1a8382392057",
   "metadata": {},
   "outputs": [
    {
     "name": "stdout",
     "output_type": "stream",
     "text": [
      "original xy [-140.5578065432628, 59.95184726377468] 4326 maps to datacube (-3313088.786283357, 322388.10948884307) EPSG:3413\n",
      "original xy [-140.5578065432628, 59.95184726377468] 4326 maps to datacube (-3313088.786283357, 322388.10948884307) EPSG:3413\n",
      "subset and load at  24.29 seconds\n"
     ]
    }
   ],
   "source": [
    "#| hide\n",
    "\n",
    "glacier_pt = create_glacier_point_from_click(w, 0, 'test label')"
   ]
  },
  {
   "cell_type": "code",
   "execution_count": null,
   "id": "9e30e045-b60d-43cf-b26e-4bf5f7eec41d",
   "metadata": {},
   "outputs": [],
   "source": [
    "#| hide\n",
    "\n",
    "glacier_cl = create_glacier_centerline_from_click(w, 0)"
   ]
  },
  {
   "cell_type": "markdown",
   "id": "8b1da8d6-5696-4b17-b36c-9e92c690219a",
   "metadata": {},
   "source": [
    "## When multiple glaciers are selected / creating multiple objects at once:"
   ]
  },
  {
   "cell_type": "code",
   "execution_count": null,
   "id": "d290f350-380d-4958-9c27-c9eb5765413b",
   "metadata": {},
   "outputs": [],
   "source": [
    "#| export\n",
    "def create_multiple_glacier_objs(w_obj):\n",
    "    '''wrapper function to create multiple objects from multiple clicks\n",
    "    '''\n",
    "    glacier_ls = []\n",
    "\n",
    "    for i in range(len(w_obj.added_glaciers)):\n",
    "    \n",
    "        glacier = create_glacier_from_click(w_obj, i)\n",
    "        glacier_ls.append(glacier)\n",
    "\n",
    "    return glacier_ls\n",
    "    #glacier0, glacier1 = glacier_ls[0], glacier_ls[1]"
   ]
  },
  {
   "cell_type": "code",
   "execution_count": null,
   "id": "e766e64e-bcb5-487f-9147-57e4ab5a6997",
   "metadata": {},
   "outputs": [],
   "source": [
    "#| hide\n",
    "\n",
    "glacier0, glacier1 = create_multiple_glacier_objs(w)[0], create_multiple_glacier_objs(w)[1]"
   ]
  },
  {
   "cell_type": "code",
   "execution_count": null,
   "id": "24ec19f8-65e6-4c6f-8d5a-94a58a841af5",
   "metadata": {},
   "outputs": [
    {
     "data": {
      "text/plain": [
       "0    Seward Glacier\n",
       "Name: NAME, dtype: object"
      ]
     },
     "execution_count": null,
     "metadata": {},
     "output_type": "execute_result"
    }
   ],
   "source": [
    "#| hide\n",
    "\n",
    "glacier0.name"
   ]
  },
  {
   "cell_type": "code",
   "execution_count": null,
   "id": "211fe6f7-972d-4bf5-a232-8558d9737ab6",
   "metadata": {},
   "outputs": [
    {
     "data": {
      "text/plain": [
       "0    Bering Glacier\n",
       "Name: NAME, dtype: object"
      ]
     },
     "execution_count": null,
     "metadata": {},
     "output_type": "execute_result"
    }
   ],
   "source": [
    "#| hide\n",
    "\n",
    "glacier1.name"
   ]
  },
  {
   "cell_type": "code",
   "execution_count": null,
   "id": "7a3dec6d-0425-4d66-98dc-7038e31bd905",
   "metadata": {},
   "outputs": [
    {
     "data": {
      "text/plain": [
       "<Axes: >"
      ]
     },
     "execution_count": null,
     "metadata": {},
     "output_type": "execute_result"
    },
    {
     "data": {
      "image/png": "[encoded data removed]",
      "text/plain": [
       "<Figure size 640x480 with 1 Axes>"
      ]
     },
     "metadata": {},
     "output_type": "display_data"
    }
   ],
   "source": [
    "#| hide\n",
    "\n",
    "fig, ax = plt.subplots()\n",
    "\n",
    "glacier0.outline_prj.plot(ax=ax)\n",
    "glacier1.outline_prj.plot(ax=ax, color='purple')"
   ]
  },
  {
   "cell_type": "code",
   "execution_count": null,
   "id": "feed9164-76c8-4167-82bc-8bd9a5db357a",
   "metadata": {},
   "outputs": [
    {
     "data": {
      "text/plain": [
       "0    Bering Glacier\n",
       "Name: NAME, dtype: object"
      ]
     },
     "execution_count": null,
     "metadata": {},
     "output_type": "execute_result"
    }
   ],
   "source": [
    "#| hide\n",
    "\n",
    "glacier1.name"
   ]
  },
  {
   "cell_type": "code",
   "execution_count": null,
   "id": "bb52a327-27d8-4ff1-bab9-a0d526c7ab5a",
   "metadata": {},
   "outputs": [],
   "source": [
    "#| export\n",
    "\n",
    "def create_multiple_glacier_point_objs(w_obj):\n",
    "    '''wrapper function to create multiple glacier point objects from multiple clicks\n",
    "    '''\n",
    "    \n",
    "    glacier_pt_ls = []\n",
    "\n",
    "    label_ls = ['point 0','point 1']\n",
    "    \n",
    "    for i in range(len(w_obj.added_glaciers)):\n",
    "    \n",
    "        glacier_pt = create_glacier_point_from_click(w_obj,i, label_ls[i])\n",
    "        glacier_pt_ls.append(glacier_pt)\n",
    "\n",
    "    return glacier_pt_ls\n",
    "   # glacier_pt0, glacier_pt1 = glacier_pt_ls[0], glacier_pt_ls[1]"
   ]
  },
  {
   "cell_type": "code",
   "execution_count": null,
   "id": "06688e28-77fd-4df5-a10a-b223615489c6",
   "metadata": {},
   "outputs": [],
   "source": [
    "#| export\n",
    "\n",
    "def create_multiple_glacier_centerline_objs(w_obj):\n",
    "    '''wrapper  function to create multiple glacier centerline objects from multiple clicks \n",
    "    '''\n",
    "\n",
    "    glacier_centerline_ls = []\n",
    "\n",
    "    for i in range(len(w_obj.added_glaciers)):\n",
    "\n",
    "        glacier_centerline = create_glacier_centerline_from_click(w_obj, i)\n",
    "        glacier_centerline_ls.append(glacier_centerline)\n",
    "\n",
    "    return glacier_centerline_ls"
   ]
  },
  {
   "cell_type": "code",
   "execution_count": null,
   "id": "37e15ffa-9f8d-4db0-8a88-72fadcd96c3b",
   "metadata": {},
   "outputs": [],
   "source": []
  },
  {
   "cell_type": "code",
   "execution_count": null,
   "id": "cc0c9306-fe23-4ab8-bb32-29f6401f445b",
   "metadata": {},
   "outputs": [],
   "source": []
  },
  {
   "cell_type": "code",
   "execution_count": null,
   "id": "d29fa0e3-f4be-425f-a5f1-a85fbac89da2",
   "metadata": {},
   "outputs": [],
   "source": []
  },
  {
   "cell_type": "code",
   "execution_count": null,
   "id": "4ff1adb7-236e-46e7-91cf-c4db6d0ed03f",
   "metadata": {},
   "outputs": [],
   "source": [
    "#| hide\n",
    "def return_clicked_info(clicked_widget):\n",
    "\n",
    "    '''this function formats information from a user click on the Widget object. \n",
    "    The output is a tuple with the form (coordinate list of clicked point, gpd.geodataframe with rgi info of clicked glacier, url of itslive zarr datacube covering clicked point\n",
    "    '''\n",
    "    num_glaciers = len(clicked_widget.added_coords)\n",
    "    #print(len(clicked_widget.added_coords))\n",
    "    gpdf_ls = []\n",
    "    if num_glaciers > 0:\n",
    "    \n",
    "        coord_ls = clicked_widget.added_coords\n",
    "        #coord_ls = [coord_ls[0][1], coord_ls[0][0]]\n",
    "\n",
    "        gpdf_ls.append(clicked_widget.added_glaciers)\n",
    "        unique_values, unique_indices = np.unique(np.array([gpdf_ls[0][i]['RGIID'] for i in range(len(gpdf_ls[0]))]), return_index=True)\n",
    "        #adding victors code here\n",
    "        #changing obj name -- new object will be gdf_list\n",
    "        gdf_list = [gpdf_ls[0][i] for i in unique_indices]\n",
    "        #gpdf = pd.concat(gpdf_ls).drop_duplicates(subset='RGIID')\n",
    "        #adding victors code here\n",
    "        #changing obj name -- new object will be gdf_list\n",
    "       \n",
    "        print(f'You have {len(gdf_list)} glaciers selected')\n",
    "    \n",
    "        #glaciers_gpdf = pd.concat([clicked_widget.added_glacier[i] for i in range(len(clicked_widget.added_glacier))])\n",
    "    \n",
    "        urls = list(set(clicked_widget.urls))\n",
    "    \n",
    "        return (coord_ls, gdf_list, urls)\n",
    "    else: \n",
    "        print('Select a datacube to fetch the data!!')\n",
    "        #str = 'The map needs to be clicked for the appropriate object to be created'\n",
    "\n",
    "        pass"
   ]
  },
  {
   "cell_type": "code",
   "execution_count": null,
   "id": "c52d047a-c7eb-40ad-bcb8-bdcad05ac779",
   "metadata": {},
   "outputs": [
    {
     "name": "stdout",
     "output_type": "stream",
     "text": [
      "You have 3 glaciers selected\n"
     ]
    }
   ],
   "source": [
    "#| hide\n",
    "\n",
    "coords, glaciers1, urls  = return_clicked_info(w)"
   ]
  },
  {
   "cell_type": "code",
   "execution_count": null,
   "id": "26626bd7-0865-46c1-913e-6ecccacc4cf3",
   "metadata": {},
   "outputs": [],
   "source": []
  }
 ],
 "metadata": {
  "kernelspec": {
   "display_name": "Python 3 (ipykernel)",
   "language": "python",
   "name": "python3"
  },
  "language_info": {
   "codemirror_mode": {
    "name": "ipython",
    "version": 3
   },
   "file_extension": ".py",
   "mimetype": "text/x-python",
   "name": "python",
   "nbconvert_exporter": "python",
   "pygments_lexer": "ipython3",
   "version": "3.11.4"
  }
 },
 "nbformat": 4,
 "nbformat_minor": 5
}
