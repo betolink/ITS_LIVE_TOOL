{
 "cells": [
  {
   "cell_type": "raw",
   "id": "a189f50c",
   "metadata": {},
   "source": [
    "---\n",
    "output-file: interactive.html\n",
    "title: '02: interactive_data_selection'\n",
    "skip_showdoc: true\n",
    "skip_exec: true\n",
    "---\n",
    "\n"
   ]
  },
  {
   "cell_type": "code",
   "execution_count": 3,
   "id": "fd978434-dd19-418a-80cc-4583c1451f44",
   "metadata": {},
   "outputs": [],
   "source": [
    "#| default_exp interactive"
   ]
  },
  {
   "cell_type": "code",
   "execution_count": 4,
   "id": "e50bb56d-624f-4d5c-9fe2-233eedf2ff16",
   "metadata": {},
   "outputs": [],
   "source": [
    "#| hide\n",
    "from nbdev.showdoc import *\n",
    "import nbdev\n",
    "from nbdev import nbdev_export"
   ]
  },
  {
   "cell_type": "code",
   "execution_count": 13,
   "id": "08983433-43ac-445c-83e3-64a0af1dc359",
   "metadata": {},
   "outputs": [],
   "source": [
    "#| export\n",
    "import numpy as np\n",
    "import pyproj\n",
    "import matplotlib.path as path\n",
    "import s3fs\n",
    "import zarr\n",
    "import matplotlib.pyplot as plt\n",
    "import scipy\n",
    "from datetime import timedelta\n",
    "from tqdm import tqdm\n",
    "import xarray as xr\n",
    "import re\n",
    "import pandas as pd\n",
    "import geopandas as gpd\n",
    "import matplotlib.path as mplp\n",
    "import ipyleaflet as ipyl\n",
    "from ipyleaflet import WMSLayer\n",
    "import ipywidgets as ipyw\n",
    "import json\n",
    "import pandas as pd\n",
    "from ipyleaflet import Map, WMSLayer, basemaps, GeoData\n",
    "from ipywidgets import HTML\n",
    "from owslib.wms import WebMapService\n",
    "import ipywidgets as widgets\n",
    "from ipywidgets import Label, VBox\n",
    "from owslib.wfs import WebFeatureService\n",
    "from requests import Request\n",
    "import urllib.request, json \n"
   ]
  },
  {
   "cell_type": "code",
   "execution_count": 14,
   "id": "2df999ab-d17d-406a-bcfd-cd0afaef5ce7",
   "metadata": {},
   "outputs": [],
   "source": [
    "from ITS_LIVE_TOOL import obj_setup"
   ]
  },
  {
   "cell_type": "code",
   "execution_count": 11,
   "id": "dec54668-6e4f-47b1-b2ef-35a71b0a33f3",
   "metadata": {},
   "outputs": [],
   "source": [
    "#| export\n",
    "class Widget():\n",
    "    '''this is an interactive map widget to streamline access itslive data. \n",
    "    left and right click for rgi info about a selected location and corresponding url \n",
    "    to ITS_LIVE image pair time series granule\n",
    "    '''\n",
    "    def __init__(self):\n",
    "\n",
    "        self.wms_url = \"https://glims.org/geoserver/ows?SERVICE=WMS&\"\n",
    "        self.map, self.label = self.make_map()\n",
    "        \n",
    "        self.coordinates_label = widgets.Label(value=\"Clicked Coordinates: \")\n",
    "        self.coordinates_output = widgets.Output()\n",
    "        self.map.on_interaction(self.click_handler)\n",
    "        self.geojson_layer = self._make_geojson_layer()\n",
    "        self.wms_layer = self._make_wms_layer()\n",
    "        self.wms = self._make_wms_obj()\n",
    "        self.map.geojson_layer = self.map.add(self.geojson_layer)\n",
    "        self.map.wms_layer = self.map.add(self.wms_layer)\n",
    "        self.geojson_layer.on_click(self._json_handler)\n",
    "        self.geojson_layer.on_hover(self._hover_handler)\n",
    "        self.added_glaciers =  []\n",
    "        self.urls = []\n",
    "        self.added_coords = []\n",
    "        self.added_urls = []\n",
    "\n",
    "    def make_map(self):\n",
    "        \n",
    "        map = ipyl.Map(basemap=basemaps.Esri.WorldImagery, center=(0, 0), zoom=2)\n",
    "        label = ipyw.Label(layout=ipyw.Layout(width=\"100%\"))\n",
    "        map.scroll_wheel_zoom = True\n",
    "        return map, label\n",
    "        \n",
    "    def _make_wms_layer(self):\n",
    "\n",
    "        wms_layer = WMSLayer(\n",
    "            url = self.wms_url,\n",
    "            layers = 'GLIMS:RGI',\n",
    "            transparent=True,\n",
    "            format = 'image/png'\n",
    "        )\n",
    "        return wms_layer\n",
    "        \n",
    "    def _make_wms_obj(self):\n",
    "        wms = WebMapService(self.wms_url)\n",
    "        return wms\n",
    "\n",
    "    def _make_geojson_layer(self):\n",
    "        # geojson layer with hover handler\n",
    "        with urllib.request.urlopen('https://its-live-data.s3.amazonaws.com/datacubes/catalog_v02.json') as url:\n",
    "\n",
    "            geojson_data = json.load(url)\n",
    "        \n",
    "        for feature in geojson_data[\"features\"]:\n",
    "            feature[\"properties\"][\"style\"] = {\n",
    "                \"color\": \"grey\",\n",
    "                \"weight\": 1,\n",
    "                \"fillColor\": \"grey\",\n",
    "                \"fillOpacity\": 0.5,\n",
    "            }\n",
    "        \n",
    "        geojson_layer = ipyl.GeoJSON(data=geojson_data, hover_style={\"fillColor\": \"red\"})\n",
    "        return geojson_layer\n",
    "\n",
    "    def _hover_handler(self, event=None, feature=None, id=None, properties=None):\n",
    "        self.label.value = properties[\"zarr_url\"]\n",
    "\n",
    "    def _json_handler(self, event=None, feature=None, id=None, properties=None):\n",
    "        zarr_url = properties.get(\"zarr_url\", \"N/A\")\n",
    "        self.urls.append(zarr_url)\n",
    "        print(f\"Clicked URL: {zarr_url}\")\n",
    "        print(\"All Clicked URLs:\", self.urls)\n",
    "\n",
    "        #self.added_urls.append(urls)\n",
    "\n",
    "    def click_handler(self, properties=None, **kwargs):\n",
    "        \n",
    "        if kwargs.get('type') == 'contextmenu':\n",
    "            latlon = kwargs.get('coordinates')\n",
    "            lat, lon = latlon[0], latlon[1]\n",
    "            print(f\"Clicked at (Lat: {lat}, Lon: {lon})\")\n",
    "            self.added_coords.append([lat, lon])\n",
    "            \n",
    "            # Arrange the coordinates\n",
    "            \n",
    "            response = self.wms.getfeatureinfo(\n",
    "                layers=['GLIMS:RGI'],\n",
    "                srs='EPSG:4326',\n",
    "                bbox=(lon-0.001,lat-0.001,lon+0.001,lat+0.001),\n",
    "                size=(1,1),\n",
    "                format='image/jpeg',\n",
    "                query_layers=['GLIMS:RGI'],\n",
    "                info_format=\"application/json\",\n",
    "                xy=(0,0))\n",
    "            df = gpd.read_file(response)\n",
    "            print(f\"You have selected the glacier {df['NAME'].values[0]}, ID: {df['RGIID'].values[0]} \")\n",
    "            self.added_glaciers.append(df)\n",
    "            try:\n",
    "                    print(f\"You have selected the glacier {df['NAME'].values[0]}, ID: {df['id'].values[0]} \")\n",
    "            except:\n",
    "                    print(f\"This glacier is not recognized by the RGI (maybe an ice-shelf ?) -> Choose another one\")\n",
    "            \n",
    "            geo_data = GeoData(geo_dataframe = df,\n",
    "                        style={'color': 'black', 'fillColor': '#3366cc', 'opacity':0.05, 'weight':1.9, 'dashArray':'2', 'fillOpacity':0.6},\n",
    "                        hover_style={'fillColor': 'blue' , 'fillOpacity': 0.2},\n",
    "                        name = 'Glacier')\n",
    "\n",
    "            self.map.add_layer(geo_data) #add glacier highlight to map\n",
    "\n",
    "            #return gdf_list\n",
    "            \n",
    "    #def update_coordinates_label(self):\n",
    "        #self.coordinates_label.value = \"Clicked Coordinates: \" + str(self.coordinates)\n",
    "\n",
    "    def clear_coordinates(self, b):\n",
    "        self.coordinates = []\n",
    "        self.update_coordinates_label()\n",
    "        \n",
    "    def get_coordinates(self):\n",
    "        return self.coordinates\n",
    "    def display(self):\n",
    "        return VBox([self.map, self.coordinates_label, self.coordinates_output])"
   ]
  },
  {
   "cell_type": "code",
   "execution_count": 12,
   "id": "61d78449-1be7-4ede-8293-a496a886e88c",
   "metadata": {},
   "outputs": [],
   "source": [
    "#| hide\n",
    "\n",
    "w = Widget()"
   ]
  },
  {
   "cell_type": "code",
   "execution_count": 13,
   "id": "ce030171-cd72-4144-ba5b-3ecde8262d0c",
   "metadata": {},
   "outputs": [
    {
     "data": {
      "application/vnd.jupyter.widget-view+json": {
       "model_id": "6cb5170e99da4051900283e394da2d97",
       "version_major": 2,
       "version_minor": 0
      },
      "text/plain": [
       "VBox(children=(Map(center=[0, 0], controls=(ZoomControl(options=['position', 'zoom_in_text', 'zoom_in_title', …"
      ]
     },
     "execution_count": 13,
     "metadata": {},
     "output_type": "execute_result"
    }
   ],
   "source": [
    "#| hide \n",
    "\n",
    "w.display()"
   ]
  },
  {
   "cell_type": "code",
   "execution_count": null,
   "id": "8920314b-e651-4aac-9aff-2745c25a2382",
   "metadata": {},
   "outputs": [
    {
     "data": {
      "text/plain": [
       "[60.35915664478289, -141.8789647067248]"
      ]
     },
     "execution_count": null,
     "metadata": {},
     "output_type": "execute_result"
    }
   ],
   "source": [
    "#| hide \n",
    "#w.added_coords[0]"
   ]
  }
 ],
 "metadata": {
  "kernelspec": {
   "display_name": "Python 3 (ipykernel)",
   "language": "python",
   "name": "python3"
  },
  "language_info": {
   "codemirror_mode": {
    "name": "ipython",
    "version": 3
   },
   "file_extension": ".py",
   "mimetype": "text/x-python",
   "name": "python",
   "nbconvert_exporter": "python",
   "pygments_lexer": "ipython3",
   "version": "3.11.4"
  }
 },
 "nbformat": 4,
 "nbformat_minor": 5
}
