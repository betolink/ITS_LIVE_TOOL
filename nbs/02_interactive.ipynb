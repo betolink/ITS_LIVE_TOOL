{
 "cells": [
  {
   "cell_type": "raw",
   "id": "dcce88bc",
   "metadata": {},
   "source": [
    "---\n",
    "output-file: interactive.html\n",
    "title: '02: interactive_data_selection'\n",
    "\n",
    "---\n",
    "\n"
   ]
  },
  {
   "cell_type": "code",
   "execution_count": 1,
   "id": "fd978434-dd19-418a-80cc-4583c1451f44",
   "metadata": {},
   "outputs": [],
   "source": [
    "#| default_exp interactive"
   ]
  },
  {
   "cell_type": "code",
   "execution_count": 2,
   "id": "e50bb56d-624f-4d5c-9fe2-233eedf2ff16",
   "metadata": {},
   "outputs": [],
   "source": [
    "#| hide\n",
    "from nbdev.showdoc import *\n",
    "import nbdev\n",
    "from nbdev import nbdev_export"
   ]
  },
  {
   "cell_type": "code",
   "execution_count": 3,
   "id": "08983433-43ac-445c-83e3-64a0af1dc359",
   "metadata": {},
   "outputs": [],
   "source": [
    "#| export\n",
    "import numpy as np\n",
    "import pyproj\n",
    "import matplotlib.path as path\n",
    "import s3fs\n",
    "import zarr\n",
    "import matplotlib.pyplot as plt\n",
    "import scipy\n",
    "from datetime import timedelta\n",
    "from tqdm import tqdm\n",
    "import xarray as xr\n",
    "import re\n",
    "import pandas as pd\n",
    "import geopandas as gpd\n",
    "import matplotlib.path as mplp\n",
    "import ipyleaflet as ipyl\n",
    "from ipyleaflet import WMSLayer\n",
    "import ipywidgets as ipyw\n",
    "import json\n",
    "import pandas as pd\n",
    "from ipyleaflet import Map, WMSLayer, basemaps\n",
    "from ipywidgets import HTML\n",
    "from owslib.wms import WebMapService\n",
    "import ipywidgets as widgets\n",
    "from ipywidgets import Label, VBox"
   ]
  },
  {
   "cell_type": "code",
   "execution_count": 4,
   "id": "dec54668-6e4f-47b1-b2ef-35a71b0a33f3",
   "metadata": {},
   "outputs": [],
   "source": [
    "#| export\n",
    "class Widget():\n",
    "\n",
    "    def __init__(self):\n",
    "\n",
    "        self.wms_url = \"https://glims.org/geoserver/ows?SERVICE=WMS&\"\n",
    "        self.map, self.label = self.make_map()\n",
    "        \n",
    "        self.coordinates_label = widgets.Label(value=\"Clicked Coordinates: \")\n",
    "        self.coordinates_output = widgets.Output()\n",
    "        self.map.on_interaction(self.click_handler)\n",
    "        self.geojson_layer = self._make_geojson_layer()\n",
    "        self.wms_layer = self._make_wms_layer()\n",
    "        self.wms = self._make_wms_obj()\n",
    "        self.map.geojson_layer = self.map.add(self.geojson_layer)\n",
    "        self.map.wms_layer = self.map.add(self.wms_layer)\n",
    "        self.geojson_layer.on_click(self._json_handler)\n",
    "        self.geojson_layer.on_hover(self._hover_handler)\n",
    "        self.added_glacier =  [] \n",
    "        self.urls = []\n",
    "        self.added_coords = []\n",
    "        self.added_urls = []\n",
    "\n",
    "    def make_map(self):\n",
    "        \n",
    "        map = ipyl.Map(basemap=basemaps.Esri.WorldImagery, center=(0, 0), zoom=2)\n",
    "        label = ipyw.Label(layout=ipyw.Layout(width=\"100%\"))\n",
    "        map.scroll_wheel_zoom = True\n",
    "        return map, label\n",
    "        \n",
    "    def _make_wms_layer(self):\n",
    "\n",
    "        wms_layer = WMSLayer(\n",
    "            url = self.wms_url,\n",
    "            layers = 'GLIMS:RGI',\n",
    "            transparent=True,\n",
    "            format = 'image/png'\n",
    "        )\n",
    "        return wms_layer\n",
    "        \n",
    "    def _make_wms_obj(self):\n",
    "        wms = WebMapService(self.wms_url)\n",
    "        return wms\n",
    "\n",
    "    def _make_geojson_layer(self):\n",
    "        # geojson layer with hover handler\n",
    "        with open(\"catalog_v02.json\") as f:\n",
    "            geojson_data = json.load(f)\n",
    "        \n",
    "        for feature in geojson_data[\"features\"]:\n",
    "            feature[\"properties\"][\"style\"] = {\n",
    "                \"color\": \"grey\",\n",
    "                \"weight\": 1,\n",
    "                \"fillColor\": \"grey\",\n",
    "                \"fillOpacity\": 0.5,\n",
    "            }\n",
    "        \n",
    "        geojson_layer = ipyl.GeoJSON(data=geojson_data, hover_style={\"fillColor\": \"red\"})\n",
    "        return geojson_layer\n",
    "\n",
    "    def _hover_handler(self, event=None, feature=None, id=None, properties=None):\n",
    "        self.label.value = properties[\"zarr_url\"]\n",
    "\n",
    "    def _json_handler(self, event=None, feature=None, id=None, properties=None):\n",
    "        zarr_url = properties.get(\"zarr_url\", \"N/A\")\n",
    "        self.urls.append(zarr_url)\n",
    "        print(f\"Clicked URL: {zarr_url}\")\n",
    "        print(\"All Clicked URLs:\", self.urls)\n",
    "\n",
    "        #self.added_urls.append(urls)\n",
    "\n",
    "    def click_handler(self, properties=None, **kwargs):\n",
    "        \n",
    "        if kwargs.get('type') == 'contextmenu':\n",
    "            latlon = kwargs.get('coordinates')\n",
    "            lat, lon = latlon[0], latlon[1]\n",
    "            print(f\"Clicked at (Lat: {lat}, Lon: {lon})\")\n",
    "            self.added_coords.append([lat, lon])\n",
    "            \n",
    "            # Arrange the coordinates\n",
    "            \n",
    "            response = self.wms.getfeatureinfo(\n",
    "                layers=['GLIMS:RGI'],\n",
    "                srs='EPSG:4326',\n",
    "                bbox=(lon-0.001,lat-0.001,lon+0.001,lat+0.001),\n",
    "                size=(1,1),\n",
    "                format='image/jpeg',\n",
    "                query_layers=['GLIMS:RGI'],\n",
    "                info_format=\"application/json\",\n",
    "                xy=(0,0))\n",
    "            df = gpd.read_file(response)\n",
    "            #self.added_glacier.append(df)\n",
    "            print(f\"You have selected the glacier {df['NAME'].values[0]}, ID: {df['RGIID'].values[0]} \")\n",
    "            #gdf_list.append(df)\n",
    "            self.added_glacier.append(df)\n",
    "\n",
    "            #return gdf_list\n",
    "            \n",
    "    def update_coordinates_label(self):\n",
    "        self.coordinates_label.value = \"Clicked Coordinates: \" + str(self.coordinates)\n",
    "\n",
    "    def clear_coordinates(self, b):\n",
    "        self.coordinates = []\n",
    "        self.update_coordinates_label()\n",
    "        \n",
    "    def get_coordinates(self):\n",
    "        return self.coordinates\n",
    "    def display(self):\n",
    "        return VBox([self.map, self.coordinates_label, self.coordinates_output])"
   ]
  },
  {
   "cell_type": "code",
   "execution_count": 5,
   "id": "61d78449-1be7-4ede-8293-a496a886e88c",
   "metadata": {},
   "outputs": [],
   "source": [
    "w = Widget()"
   ]
  },
  {
   "cell_type": "code",
   "execution_count": 6,
   "id": "ce030171-cd72-4144-ba5b-3ecde8262d0c",
   "metadata": {},
   "outputs": [
    {
     "data": {
      "application/vnd.jupyter.widget-view+json": {
       "model_id": "14d86676602f431daacce633a19cb69a",
       "version_major": 2,
       "version_minor": 0
      },
      "text/plain": [
       "VBox(children=(Map(center=[0, 0], controls=(ZoomControl(options=['position', 'zoom_in_text', 'zoom_in_title', …"
      ]
     },
     "execution_count": 6,
     "metadata": {},
     "output_type": "execute_result"
    }
   ],
   "source": [
    "w.display()"
   ]
  },
  {
   "cell_type": "code",
   "execution_count": 11,
   "id": "c60ac265-1092-46ba-ac10-8287fdb44c08",
   "metadata": {},
   "outputs": [
    {
     "data": {
      "text/plain": [
       "[[35.15283049366839, 74.49915950027177]]"
      ]
     },
     "execution_count": 11,
     "metadata": {},
     "output_type": "execute_result"
    }
   ],
   "source": [
    "w.added_coords"
   ]
  },
  {
   "cell_type": "code",
   "execution_count": 1,
   "id": "4ff1adb7-236e-46e7-91cf-c4db6d0ed03f",
   "metadata": {},
   "outputs": [],
   "source": [
    "#| export\n",
    "def return_clicked_info(clicked_widget):\n",
    "\n",
    "    '''this function formats information from a user click on the Widget object. \n",
    "    The output is a tuple with the form (coordinate list of clicked point, gpd.geodataframe with rgi info of clicked glacier, url of itslive zarr datacube covering clicked point\n",
    "    '''\n",
    "    num_glaciers = len(clicked_widget.added_coords)\n",
    "    print(len(clicked_widget.added_coords))\n",
    "    gpdf_ls = []\n",
    "    if num_glaciers > 0:\n",
    "    \n",
    "        coord_ls = clicked_widget.added_coords\n",
    "\n",
    "        gpdf_ls.append(clicked_widget.added_glacier)\n",
    "        #glaciers_gpdf = pd.concat([clicked_widget.added_glacier[i] for i in range(len(clicked_widget.added_glacier))])\n",
    "    \n",
    "        urls = list(set(clicked_widget.urls))\n",
    "    \n",
    "        return (coord_ls, gpdf_ls, urls)\n",
    "    else: \n",
    "        print('no selection has been made')\n",
    "        str = 'The map needs to be clicked for the appropriate object to be created'\n",
    "\n",
    "        return str"
   ]
  },
  {
   "cell_type": "code",
   "execution_count": 26,
   "id": "c52d047a-c7eb-40ad-bcb8-bdcad05ac779",
   "metadata": {},
   "outputs": [
    {
     "name": "stdout",
     "output_type": "stream",
     "text": [
      "1\n"
     ]
    }
   ],
   "source": [
    "info = return_clicked_info(w)"
   ]
  },
  {
   "cell_type": "code",
   "execution_count": 27,
   "id": "69f0e392-9595-456f-a13b-b73099240b2c",
   "metadata": {},
   "outputs": [
    {
     "data": {
      "text/plain": [
       "[35.15283049366839, 74.49915950027177]"
      ]
     },
     "execution_count": 27,
     "metadata": {},
     "output_type": "execute_result"
    }
   ],
   "source": [
    "info[0][0]"
   ]
  },
  {
   "cell_type": "code",
   "execution_count": 22,
   "id": "b06af670-1cb4-4421-9888-fa322802503e",
   "metadata": {},
   "outputs": [
    {
     "data": {
      "text/html": [
       "<div>\n",
       "<style scoped>\n",
       "    .dataframe tbody tr th:only-of-type {\n",
       "        vertical-align: middle;\n",
       "    }\n",
       "\n",
       "    .dataframe tbody tr th {\n",
       "        vertical-align: top;\n",
       "    }\n",
       "\n",
       "    .dataframe thead th {\n",
       "        text-align: right;\n",
       "    }\n",
       "</style>\n",
       "<table border=\"1\" class=\"dataframe\">\n",
       "  <thead>\n",
       "    <tr style=\"text-align: right;\">\n",
       "      <th></th>\n",
       "      <th>id</th>\n",
       "      <th>CENLON</th>\n",
       "      <th>ZMAX</th>\n",
       "      <th>BGNDATE</th>\n",
       "      <th>ZMIN</th>\n",
       "      <th>RGIID</th>\n",
       "      <th>ASPECT</th>\n",
       "      <th>CENLAT</th>\n",
       "      <th>SLOPE</th>\n",
       "      <th>ZMED</th>\n",
       "      <th>...</th>\n",
       "      <th>TERMTYPE</th>\n",
       "      <th>O2REGION</th>\n",
       "      <th>STATUS</th>\n",
       "      <th>ENDDATE</th>\n",
       "      <th>FORM</th>\n",
       "      <th>SURGING</th>\n",
       "      <th>GLIMSID</th>\n",
       "      <th>O1REGION</th>\n",
       "      <th>NAME</th>\n",
       "      <th>geometry</th>\n",
       "    </tr>\n",
       "  </thead>\n",
       "  <tbody>\n",
       "    <tr>\n",
       "      <th>0</th>\n",
       "      <td>RGI_SouthAsiaWest.20157</td>\n",
       "      <td>74.515594</td>\n",
       "      <td>6279</td>\n",
       "      <td>20010829</td>\n",
       "      <td>3707</td>\n",
       "      <td>RGI60-14.20157</td>\n",
       "      <td>38</td>\n",
       "      <td>35.10701</td>\n",
       "      <td>15.6</td>\n",
       "      <td>4681</td>\n",
       "      <td>...</td>\n",
       "      <td>0</td>\n",
       "      <td>3</td>\n",
       "      <td>0</td>\n",
       "      <td>-9999999</td>\n",
       "      <td>0</td>\n",
       "      <td>9</td>\n",
       "      <td>G074516E35107N</td>\n",
       "      <td>14</td>\n",
       "      <td>Toshain Glacier</td>\n",
       "      <td>MULTIPOLYGON (((74.51330 35.09580, 74.51330 35...</td>\n",
       "    </tr>\n",
       "  </tbody>\n",
       "</table>\n",
       "<p>1 rows × 24 columns</p>\n",
       "</div>"
      ],
      "text/plain": [
       "                        id     CENLON  ZMAX   BGNDATE  ZMIN           RGIID  \\\n",
       "0  RGI_SouthAsiaWest.20157  74.515594  6279  20010829  3707  RGI60-14.20157   \n",
       "\n",
       "   ASPECT    CENLAT  SLOPE  ZMED  ...  TERMTYPE  O2REGION  STATUS   ENDDATE  \\\n",
       "0      38  35.10701   15.6  4681  ...         0         3       0  -9999999   \n",
       "\n",
       "   FORM SURGING         GLIMSID O1REGION             NAME  \\\n",
       "0     0       9  G074516E35107N       14  Toshain Glacier   \n",
       "\n",
       "                                            geometry  \n",
       "0  MULTIPOLYGON (((74.51330 35.09580, 74.51330 35...  \n",
       "\n",
       "[1 rows x 24 columns]"
      ]
     },
     "execution_count": 22,
     "metadata": {},
     "output_type": "execute_result"
    }
   ],
   "source": [
    "info[1]"
   ]
  },
  {
   "cell_type": "code",
   "execution_count": 23,
   "id": "41513a2e-0f70-4922-ab5c-3ae0059f7724",
   "metadata": {},
   "outputs": [
    {
     "data": {
      "text/plain": [
       "['http://its-live-data.s3.amazonaws.com/datacubes/v2/N30E070/ITS_LIVE_vel_EPSG32643_G0120_X450000_Y3850000.zarr']"
      ]
     },
     "execution_count": 23,
     "metadata": {},
     "output_type": "execute_result"
    }
   ],
   "source": [
    "info[2]"
   ]
  },
  {
   "cell_type": "code",
   "execution_count": null,
   "id": "04270b2f-65d6-4635-8efb-dc5a448f6790",
   "metadata": {},
   "outputs": [],
   "source": []
  }
 ],
 "metadata": {
  "kernelspec": {
   "display_name": "Python 3 (ipykernel)",
   "language": "python",
   "name": "python3"
  },
  "language_info": {
   "codemirror_mode": {
    "name": "ipython",
    "version": 3
   },
   "file_extension": ".py",
   "mimetype": "text/x-python",
   "name": "python",
   "nbconvert_exporter": "python",
   "pygments_lexer": "ipython3",
   "version": "3.11.4"
  }
 },
 "nbformat": 4,
 "nbformat_minor": 5
}
