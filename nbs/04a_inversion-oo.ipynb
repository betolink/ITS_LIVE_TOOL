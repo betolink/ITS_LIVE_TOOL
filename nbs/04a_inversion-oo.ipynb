{
 "cells": [
  {
   "cell_type": "markdown",
   "id": "6ae12e1c-859d-4c9e-9009-56f6cf48f642",
   "metadata": {},
   "source": [
    "# 03: Velocity inversion"
   ]
  },
  {
   "cell_type": "markdown",
   "id": "38a76102-ce85-425b-918d-bd106a8f668d",
   "metadata": {},
   "source": [
    "# NOTE: still need to organize this code more"
   ]
  },
  {
   "cell_type": "code",
   "execution_count": 1,
   "id": "17710cd2-1523-4e14-9ed4-5d2f4e71573f",
   "metadata": {},
   "outputs": [],
   "source": [
    "#| default_exp invert"
   ]
  },
  {
   "cell_type": "code",
   "execution_count": 2,
   "id": "d9a30185-f150-4d86-b79b-9cdfea641c1d",
   "metadata": {},
   "outputs": [],
   "source": [
    "#| hide\n",
    "from nbdev.showdoc import *\n",
    "import nbdev \n",
    "from nbdev import nbdev_export"
   ]
  },
  {
   "cell_type": "code",
   "execution_count": 3,
   "id": "5b430b2e-3bac-4b7d-bd00-926b77daf2b6",
   "metadata": {},
   "outputs": [],
   "source": [
    "#| export\n",
    "import numpy as np\n",
    "import pyproj\n",
    "import matplotlib.path as path\n",
    "import s3fs\n",
    "import zarr\n",
    "import matplotlib.pyplot as plt\n",
    "import scipy\n",
    "from datetime import timedelta\n",
    "from tqdm import tqdm\n",
    "import xarray as xr\n",
    "import re\n",
    "import pandas as pd\n",
    "import geopandas as gpd\n",
    "import matplotlib.path as mplp\n",
    "import ipyleaflet as ipyl\n",
    "from ipyleaflet import WMSLayer\n",
    "import ipywidgets as ipyw\n",
    "import json\n",
    "import pandas as pd\n",
    "from ipyleaflet import Map, WMSLayer, basemaps, GeoData\n",
    "from ipywidgets import HTML\n",
    "from owslib.wms import WebMapService"
   ]
  },
  {
   "cell_type": "code",
   "execution_count": 4,
   "id": "a731d171-1e95-4004-96c7-e8d021225caa",
   "metadata": {},
   "outputs": [],
   "source": [
    "#| export\n",
    "from ITS_LIVE_TOOL import obj_setup, interactive"
   ]
  },
  {
   "cell_type": "code",
   "execution_count": 5,
   "id": "d35cdb3a-a8ae-46c2-873d-304f389f88cb",
   "metadata": {},
   "outputs": [],
   "source": [
    "#| export\n",
    "urls = []"
   ]
  },
  {
   "cell_type": "code",
   "execution_count": 10,
   "id": "e0f6704b-3838-4dad-88b5-5ce3c6190f70",
   "metadata": {},
   "outputs": [],
   "source": [
    "#| export\n",
    "data_map = interactive.Widget()"
   ]
  },
  {
   "cell_type": "code",
   "execution_count": 11,
   "id": "2e8c3e89-7004-4bbe-a46f-5ff508e5504e",
   "metadata": {
    "scrolled": true
   },
   "outputs": [
    {
     "data": {
      "application/vnd.jupyter.widget-view+json": {
       "model_id": "282e8bd3526044e0b269b6ccfd27bd8c",
       "version_major": 2,
       "version_minor": 0
      },
      "text/plain": [
       "VBox(children=(Map(center=[0, 0], controls=(ZoomControl(options=['position', 'zoom_in_text', 'zoom_in_title', …"
      ]
     },
     "execution_count": 11,
     "metadata": {},
     "output_type": "execute_result"
    }
   ],
   "source": [
    "data_map.display()"
   ]
  },
  {
   "cell_type": "code",
   "execution_count": 12,
   "id": "d2401970-de26-4109-9ae9-4f61a1e37201",
   "metadata": {
    "scrolled": true
   },
   "outputs": [
    {
     "data": {
      "text/plain": [
       "['http://its-live-data.s3.amazonaws.com/datacubes/v2/N50W140/ITS_LIVE_vel_EPSG3413_G0120_X-3350000_Y350000.zarr',\n",
       " 'http://its-live-data.s3.amazonaws.com/datacubes/v2/N60W140/ITS_LIVE_vel_EPSG3413_G0120_X-3250000_Y350000.zarr',\n",
       " 'http://its-live-data.s3.amazonaws.com/datacubes/v2/N60W130/ITS_LIVE_vel_EPSG3413_G0120_X-3250000_Y250000.zarr',\n",
       " 'http://its-live-data.s3.amazonaws.com/datacubes/v2/N50W130/ITS_LIVE_vel_EPSG3413_G0120_X-3350000_Y250000.zarr']"
      ]
     },
     "execution_count": 12,
     "metadata": {},
     "output_type": "execute_result"
    }
   ],
   "source": [
    "data_map.urls"
   ]
  },
  {
   "cell_type": "code",
   "execution_count": 13,
   "id": "cfbc1164-8c7c-4eea-86b2-0bf73f9c255f",
   "metadata": {},
   "outputs": [
    {
     "data": {
      "text/plain": [
       "4"
      ]
     },
     "execution_count": 13,
     "metadata": {},
     "output_type": "execute_result"
    }
   ],
   "source": [
    "len(data_map.added_glaciers)"
   ]
  },
  {
   "cell_type": "code",
   "execution_count": 14,
   "id": "4d238bae-951f-4dec-8085-c1454eb96e2a",
   "metadata": {},
   "outputs": [
    {
     "data": {
      "text/plain": [
       "4"
      ]
     },
     "execution_count": 14,
     "metadata": {},
     "output_type": "execute_result"
    }
   ],
   "source": [
    "len(data_map.added_coords)"
   ]
  },
  {
   "cell_type": "code",
   "execution_count": 15,
   "id": "bc6dc551-d5ba-4d11-bf7a-4e475230b463",
   "metadata": {},
   "outputs": [],
   "source": [
    "coords = data_map.added_coords\n",
    "unique_values, unique_indices = np.unique(np.array([i['id'] for i in data_map.added_glaciers]), return_index=True)\n",
    "gdf_list = [data_map.added_glaciers[i] for i in unique_indices]\n",
    "urls = list(set(data_map.urls))"
   ]
  },
  {
   "cell_type": "code",
   "execution_count": 10,
   "id": "4b5ab3ae-c00a-439b-89f0-8ac95cb0e69a",
   "metadata": {},
   "outputs": [
    {
     "name": "stdout",
     "output_type": "stream",
     "text": [
      "You have 2 glaciers selected\n"
     ]
    }
   ],
   "source": [
    "#|export\n",
    "try: \n",
    "    coords, gpdf, itslive_urls = interactive.return_clicked_info(data_map)\n",
    "except:\n",
    "    pass"
   ]
  },
  {
   "cell_type": "code",
   "execution_count": 38,
   "id": "aeb8167c-45cb-4f88-8ba5-8a4b89e72104",
   "metadata": {},
   "outputs": [],
   "source": [
    "class Inversion_inputs():\n",
    "\n",
    "    def __init__(self, gpdf, urls):\n",
    "\n",
    "        self.urls = urls\n",
    "        self.mod_urls = self._format_urls()\n",
    "        self.gpdf = gpdf\n",
    "        self.param_dict = self._make_param_dict()\n",
    "        self.data_dict, self.X_valid, self.Y_valid, self.X_tot, self.Y_tot = self._create_data_dict()\n",
    "        #add store as an attr here from the url and then pass it to the get_extents function\n",
    "\n",
    "    def _format_urls(self):\n",
    "        mod_urls = [re.sub(r'http', 's3', url) for url in self.urls]\n",
    "        mod_urls = [re.sub(r'\\.s3\\.amazonaws\\.com', '', url) for url in mod_urls]\n",
    "        return mod_urls\n",
    "        \n",
    "    def _make_param_dict(self):\n",
    "        '''dict to organize all ivnersion inputs: url, parameters and gpdf obj'''\n",
    "        \n",
    "        d = {'mission' : None,\n",
    "                'lamb' : 10,\n",
    "                'derivative' : 2,\n",
    "                'day_interval' : 12,\n",
    "                'sdate' : None,\n",
    "                'edate' : None,\n",
    "                'GPU' : False ,}\n",
    "        \n",
    "        return d\n",
    "\n",
    "    def _create_data_dict(self):\n",
    "\n",
    "        urls = self.mod_urls\n",
    "        #create storign arrays for the coordinates on-glacier\n",
    "        X_valid = []\n",
    "        Y_valid = []\n",
    "        X_tot = []\n",
    "        Y_tot = []\n",
    "    \n",
    "        #crate an empty dictionary to hold many variables all tied to the datacube\n",
    "        data_dict = {}\n",
    "    \n",
    "        #iterate through different datacubes so they can each have one instance of the variables blow\n",
    "        for url in urls:\n",
    "            zarr_store = None # To store the datacube's information and access its variables\n",
    "            dates = None # To store the dates at which the inversion will give values\n",
    "            A_m = None # 1st part of the design matrix\n",
    "            reg_mat_Inv = None # Regularization in time, 2nd part of the design matrix\n",
    "            mission = None # If you want to invert specifically for one mission in particular ('S1','L8','L9', etc...)\n",
    "            index_sort = None # Indices representing the sorted dates (from older to most recent)\n",
    "            inds_mission = None # Indices representing the sorted dates per mission chosen\n",
    "            ind_tot = None # Indices representing the indices of the pixels on the GOI\n",
    "            valid_idx = None # Easting and Northing values of the indices above\n",
    "            proj_cube = None # Projection of the datacube\n",
    "            mask_dates = None # Mask that filters out dates outside of desired date range\n",
    "    \n",
    "            # Create a dictionary entry for the URL with the desired subsets\n",
    "            data_dict[url] = {\n",
    "                'zarr_store': zarr_store,\n",
    "                'dates_noinv': dates,\n",
    "                'A_m': A_m,\n",
    "                'reg_mat_Inv': reg_mat_Inv,\n",
    "                'mission': mission,\n",
    "                'index_sort': index_sort,\n",
    "                'inds_mission': inds_mission,\n",
    "                'dates': dates,\n",
    "                'ind_tot': ind_tot,\n",
    "                'valid_idx': valid_idx,\n",
    "                'proj_cube': proj_cube,\n",
    "                'mask_dates': mask_dates\n",
    "            }\n",
    "            \n",
    "        return data_dict, X_valid, Y_valid, X_tot, Y_tot\n",
    "\n",
    "    def get_extents(self):# mission, lamb, derivative, day_interval):\n",
    "\n",
    "        #url = new_url\n",
    "        for url in tqdm(range(len(self.mod_urls))):\n",
    "\n",
    "            url = self.mod_urls[url]\n",
    "            gpdf = self.gpdf\n",
    "            X_tot = self.X_tot\n",
    "            Y_tot = self.Y_tot\n",
    "            X_valid = self.X_valid\n",
    "            Y_valid = self.Y_valid\n",
    "            data_dict = self.data_dict\n",
    "            #url, gpdf, X_tot, Y_tot, X_valid, Y_valid, data_dict\n",
    "            #url = input_data_dict['urls'].iloc[0]\n",
    "            \n",
    "            # Open the zarr files\n",
    "            fs = s3fs.S3FileSystem(anon=True)\n",
    "            store = zarr.open(s3fs.S3Map(url, s3=fs))\n",
    "            print(store)\n",
    "            # Update the dictionnary\n",
    "            data_dict[url]['zarr_store'] = store\n",
    "        \n",
    "            # Get the cube's projection\n",
    "            proj_cube = int(store.attrs['projection'])\n",
    "        \n",
    "            # Load X and Y of the dataset\n",
    "            X = store['x'][:]\n",
    "            Y = store['y'][:]\n",
    "        \n",
    "            # Store the arrays in the total list\n",
    "            self.X_tot.append(X)\n",
    "            self.Y_tot.append(Y)\n",
    "        \n",
    "            # Load dimensions\n",
    "            shape_arr = store['v'].shape\n",
    "            \n",
    "            Xs, Ys = np.meshgrid(X, Y)\n",
    "            points = np.array((Xs.flatten(), Ys.flatten())).T\n",
    "        \n",
    "            idx_valid = []\n",
    "            for b in range(len(gpdf)):\n",
    "                mpath = mplp.Path(list(gpdf[b]['geometry'].to_crs(np.int(proj_cube)).boundary.explode(index_parts = True).iloc[0].coords))\n",
    "                glacier_mask = mpath.contains_points(points).reshape(Xs.shape)\n",
    "                # Grab the indices of the points inside the glacier\n",
    "                idx_valid.append(np.array(np.where(glacier_mask==True)))\n",
    "                \n",
    "            idx_valid = np.hstack(idx_valid)\n",
    "            # Store the valid indices\n",
    "            self.data_dict[url]['valid_idx'] = idx_valid\n",
    "            # Store the cube projection\n",
    "            self.data_dict[url]['proj_cube'] = proj_cube\n",
    "            \n",
    "            # Store the coordinates of the valid Xs and Ys\n",
    "            self.X_valid.append([Xs[idx_valid[0][i], idx_valid[1][i]] for i in range(len(idx_valid[0]))])\n",
    "            self.Y_valid.append([Ys[idx_valid[0][i], idx_valid[1][i]] for i in range(len(idx_valid[0]))])\n",
    "            \n",
    "        return X_tot, Y_tot, X_valid, Y_valid\n",
    "\n",
    "    def design_matrices(self):\n",
    "\n",
    "        urls = self.mod_urls\n",
    "        \n",
    "        for i in tqdm(range(len(urls))):\n",
    "        \n",
    "            print(data_dict[urls[url]]['zarr_store'])\n",
    "            url = self.mod_urls[i]\n",
    "            print(url)\n",
    "            print(urls[url])\n",
    "            mission = self.param_dict['mission']\n",
    "            lamb = self.param_dict['lamb']\n",
    "            derivative = self.param_dict['derivative']\n",
    "            day_interval = self.param_dict['day_interval']\n",
    "            sdate = self.param_dict['sdate']\n",
    "            edate = self.param_dict['edate']\n",
    "\n",
    "            # If you passed 'mission' as an argument, it grabs the appropriate values\n",
    "            if mission:\n",
    "                # Get the indices of the mission\n",
    "                filt1 = np.where(self.data_dict[urls[url]]['zarr_store']['satellite_img1'][:] == mission)\n",
    "                filt2 = np.where(self.data_dict[urls[url]]['zarr_store']['satellite_img2'][:] == mission)\n",
    "                inds_mission = np.intersect1d(filt1[0],filt2[0])\n",
    "        \n",
    "                # Grab only the indices corresponding to the missions\n",
    "                mid_dates = np.datetime64('1970-01-01') + np.array(self.data_dict[urls[url]]['zarr_store']['mid_date'][:], dtype='timedelta64[D]')[inds_mission]\n",
    "                im1 = np.datetime64('1970-01-01') + np.array(self.data_dict[urls[url]]['zarr_store']['acquisition_date_img1'][:], dtype='timedelta64[D]')[inds_mission]\n",
    "                im2 = np.datetime64('1970-01-01') + np.array(self.data_dict[urls[url]]['zarr_store']['acquisition_date_img2'][:], dtype='timedelta64[D]')[inds_mission]\n",
    "            else:\n",
    "                # If 'None' was passed as a mission argument, we grab all the available data.\n",
    "                inds_mission = None\n",
    "                mid_dates = np.datetime64('1970-01-01') + np.array(self.data_dict[urls[url]]['zarr_store']['mid_date'][:], dtype='timedelta64[D]')\n",
    "                im1 = np.datetime64('1970-01-01') + np.array(self.data_dict[urls[url]]['zarr_store']['acquisition_date_img1'][:], dtype='timedelta64[D]')\n",
    "                im2 = np.datetime64('1970-01-01') + np.array(self.data_dict[urls[url]]['zarr_store']['acquisition_date_img2'][:], dtype='timedelta64[D]')\n",
    "            \n",
    "            # Get some arrays\n",
    "            index_sort = np.argsort(np.datetime64('1970-01-01') + np.array(self.data_dict[urls[url]]['zarr_store']['mid_date'][:], dtype='timedelta64[D]'))\n",
    "            mid_dates = mid_dates[index_sort]\n",
    "            im1 = im1[index_sort]\n",
    "            im2 = im2[index_sort]\n",
    "        \n",
    "            # If sdate is later than the first available date, we find its corresponding index\n",
    "            try:\n",
    "                sdate_ind = np.where(mid_dates >= sdate)[0][0]\n",
    "            except:\n",
    "                sdate_ind = 0\n",
    "            \n",
    "            # If edate is sooner than the last available date, we find its corresponding index\n",
    "            try:\n",
    "                edate_ind = np.where(mid_dates > edate)[0][0]\n",
    "            except:\n",
    "                edate_ind = None\n",
    "            \n",
    "            # Create a False/True mask where True if the date is in the desired range\n",
    "            mask_dates = np.full(mid_dates.shape, False)\n",
    "            mask_dates[sdate_ind:edate_ind] = True\n",
    "        \n",
    "            # Keep only the values within the desired range\n",
    "            mid_dates = mid_dates[mask_dates]\n",
    "            im1 = im1[mask_dates]\n",
    "            im2 = im2[mask_dates]\n",
    "        \n",
    "            # Check which im is the smallest (first image, it changes depending on ITS_LIVE's version)\n",
    "            if im2[0] < im1[0]:\n",
    "                temp = im1\n",
    "                im1 = im2\n",
    "                im2 = temp\n",
    "        \n",
    "            # Create the date array with the new interval dates\n",
    "            dates_nonum = np.arange(mid_dates[0], mid_dates[-1], timedelta(days=day_interval)).astype(np.datetime64)\n",
    "        \n",
    "            # Convert to numerical\n",
    "            dates = (dates_nonum - np.datetime64('1970-01-01T00:00:00Z'))/np.timedelta64(1, 's')\n",
    "            dt_start = (im1 - np.datetime64('1970-01-01T00:00:00Z'))/np.timedelta64(1, 's')\n",
    "            dt_end = (im2 - np.datetime64('1970-01-01T00:00:00Z'))/np.timedelta64(1, 's')\n",
    "        \n",
    "            # --------------- DESIGN MATRICES --------------- \n",
    "        \n",
    "            # Initialize matrix\n",
    "            A_m = np.zeros((mid_dates.shape[0],dates.shape[0]))\n",
    "        \n",
    "            # We have to iterate through the satellite pairs that actually gave a measurement\n",
    "            for j in range(1, len(mid_dates)):\n",
    "            # current contents of your for loop\n",
    "        \n",
    "                # Find the middate that is the closest to dt_start (supequal)\n",
    "                start = np.argmin(np.abs(dates-dt_start[j]))\n",
    "        \n",
    "                # Find the middate that is closest to dt_end (infequal)\n",
    "                end = np.argmin(dt_end[j] - dates[dates <= dt_end[j]])\n",
    "        \n",
    "                # Divide 1 by the amount of middates between d_start and d_end \n",
    "                if end == A_m.shape[1]-1: # If the mid_date is at the end of the array (acquisition im2 equals last mid_date)\n",
    "                    A_m[j, start:] = 1/(1+A_m.shape[1]-start)\n",
    "                else: # If the measurement is in A's bounds temporally (we can have a satellite pair with the 2nd pair being outside of our mid_dates)\n",
    "                    A_m[j, start:end+1] = 1/(1+end-start) # Attribute to each pixel in the timescale of the satellite pair, the 1/amount of pixel in the pairmid_dates.shape\n",
    "        \n",
    "        \n",
    "            # Initialize regularization matrix\n",
    "            if derivative == 1:\n",
    "                reg_mat_Inv = np.zeros((A_m.shape[1] -1, A_m.shape[1]))\n",
    "        \n",
    "                for j in range(A_m.shape[1] -1):\n",
    "                    reg_mat_Inv[j, j] = -lamb/day_interval\n",
    "                    reg_mat_Inv[j, j+1] = lamb/day_interval\n",
    "        \n",
    "            elif derivative == 2:\n",
    "                # Initialize 2nd derivative regularization matrix\n",
    "                reg_mat_Inv = np.zeros((A_m.shape[1] -1, A_m.shape[1]))\n",
    "        \n",
    "                for j in range(A_m.shape[1] -2):\n",
    "                    reg_mat_Inv[j, j] = lamb/(day_interval**2)\n",
    "                    reg_mat_Inv[j, j+1] = -2*lamb/(day_interval**2)\n",
    "                    reg_mat_Inv[j, j+2] = lamb/(day_interval**2)\n",
    "                    \n",
    "            data_dict[urls[url]]['A_m'] = A_m\n",
    "            data_dict[urls[url]]['reg_mat_Inv'] = reg_mat_Inv\n",
    "            data_dict[urls[url]]['mission'] = mission\n",
    "            data_dict[urls[url]]['index_sort'] = index_sort\n",
    "            data_dict[urls[url]]['inds_mission'] = inds_mission\n",
    "            data_dict[urls[url]]['dates'] = dates_nonum\n",
    "            data_dict[urls[url]]['dates_noinv'] = mid_dates\n",
    "            data_dict[urls[url]]['mask_dates']= mask_dates\n",
    "                    \n",
    "            return data_dict\n",
    "\n",
    "\n"
   ]
  },
  {
   "cell_type": "code",
   "execution_count": 39,
   "id": "00b35f57-b08e-4e34-bc20-883262197858",
   "metadata": {},
   "outputs": [],
   "source": [
    "inversion = Inversion_inputs(gdf_list, urls)"
   ]
  },
  {
   "cell_type": "code",
   "execution_count": 18,
   "id": "7341d34b-f31c-49ad-9dc8-5a7d50a01a28",
   "metadata": {},
   "outputs": [
    {
     "data": {
      "text/plain": [
       "{'zarr_store': None,\n",
       " 'dates_noinv': None,\n",
       " 'A_m': None,\n",
       " 'reg_mat_Inv': None,\n",
       " 'mission': None,\n",
       " 'index_sort': None,\n",
       " 'inds_mission': None,\n",
       " 'dates': None,\n",
       " 'ind_tot': None,\n",
       " 'valid_idx': None,\n",
       " 'proj_cube': None,\n",
       " 'mask_dates': None}"
      ]
     },
     "execution_count": 18,
     "metadata": {},
     "output_type": "execute_result"
    }
   ],
   "source": [
    "inversion.data_dict['s3://its-live-data/datacubes/v2/N50W130/ITS_LIVE_vel_EPSG3413_G0120_X-3350000_Y250000.zarr']"
   ]
  },
  {
   "cell_type": "code",
   "execution_count": 19,
   "id": "db1024fd-fb2c-4482-8717-31bbeb784085",
   "metadata": {},
   "outputs": [
    {
     "name": "stderr",
     "output_type": "stream",
     "text": [
      "100%|██████████| 4/4 [07:16<00:00, 109.10s/it]\n"
     ]
    }
   ],
   "source": [
    "X_tot, Y_tot, X_valid, Y_valid = inversion.get_extents()"
   ]
  },
  {
   "cell_type": "code",
   "execution_count": 87,
   "id": "8bf26317-fcae-47dc-a8ef-53abcf3f1d7a",
   "metadata": {},
   "outputs": [],
   "source": [
    "def create_template(input_x_tot, input_y_tot, input_x_valid, input_y_valid):\n",
    "\n",
    "   # Create Eastings and Northings arrays based on the Eastings and Northings of the datacubes\n",
    "    X_arr = np.unique(np.hstack(X_tot))\n",
    "    Y_arr = np.unique(np.hstack(Y_tot))\n",
    "    \n",
    "    # Crop to the GOI (so we avoid over-filling our matrix with NaNs)\n",
    "    x_min = np.where(np.min(np.hstack(X_valid)) == X_arr)[0][0]\n",
    "    x_max = np.where(np.max(np.hstack(X_valid)) == X_arr)[0][0]\n",
    "    y_min = np.where(np.min(np.hstack(Y_valid)) == Y_arr)[0][0]\n",
    "    y_max = np.where(np.max(np.hstack(Y_valid)) == Y_arr)[0][0]\n",
    "    \n",
    "    \n",
    "    # And now search the indices corresponding to the coordinates \n",
    "    x_matches = np.hstack([[np.where(i == X_arr[min(x_min-1, x_max+1):max(x_min-1, x_max+1)])[0][0] for i in row] for row in X_valid]).astype(int)\n",
    "    y_matches = np.hstack([[np.where(i == Y_arr[min(y_min-1, y_max+1):max(y_min-1, y_max+1)])[0][0] for i in row] for row in Y_valid]).astype(int)\n",
    "    \n",
    "    # Create an array representing the glacier\n",
    "    template = np.zeros((len(Y_arr[min(y_min-1, y_max+1):max(y_min-1, y_max+1)]), len( X_arr[min(x_min-1, x_max+1):max(x_min-1, x_max+1)])))\n",
    "    template[y_matches, x_matches] = 1\n",
    "\n",
    "    return template, X_arr, Y_arr, x_min, x_max, y_min, y_max\n",
    "\n"
   ]
  },
  {
   "cell_type": "code",
   "execution_count": 88,
   "id": "612d0f4f-c889-4319-a777-819b9d6ab375",
   "metadata": {},
   "outputs": [],
   "source": [
    "template, X_arr, Y_arr, x_min,x_max, y_min, y_max = create_template(X_tot, Y_tot, X_valid, Y_valid )"
   ]
  },
  {
   "cell_type": "code",
   "execution_count": 40,
   "id": "cd7fdb87-207b-4dfe-ace7-9404c9ecbb07",
   "metadata": {},
   "outputs": [
    {
     "data": {
      "text/plain": [
       "(670, 860)"
      ]
     },
     "execution_count": 40,
     "metadata": {},
     "output_type": "execute_result"
    }
   ],
   "source": [
    "template.shape"
   ]
  },
  {
   "cell_type": "code",
   "execution_count": 49,
   "id": "5b02e6e4-2def-44c3-9acc-1df11f1f8a17",
   "metadata": {},
   "outputs": [
    {
     "data": {
      "text/plain": [
       "(1667,)"
      ]
     },
     "execution_count": 49,
     "metadata": {},
     "output_type": "execute_result"
    }
   ],
   "source": [
    "Y_arr.shape"
   ]
  },
  {
   "cell_type": "code",
   "execution_count": 47,
   "id": "0ed7048c-1661-4f3b-94e3-893a19a212b8",
   "metadata": {},
   "outputs": [
    {
     "data": {
      "text/plain": [
       "(2,)"
      ]
     },
     "execution_count": 47,
     "metadata": {},
     "output_type": "execute_result"
    }
   ],
   "source": [
    "Y_arr[y_min-1:y_min+1].shape"
   ]
  },
  {
   "cell_type": "code",
   "execution_count": 45,
   "id": "7cd97d14-025c-4b9b-87bf-2cf912013d87",
   "metadata": {},
   "outputs": [
    {
     "data": {
      "text/plain": [
       "(860,)"
      ]
     },
     "execution_count": 45,
     "metadata": {},
     "output_type": "execute_result"
    }
   ],
   "source": [
    "X_arr[x_min-1:x_max+1].shape"
   ]
  },
  {
   "cell_type": "code",
   "execution_count": 50,
   "id": "86c0aa05-c9c7-4d0f-a542-96d8a08faf63",
   "metadata": {},
   "outputs": [
    {
     "data": {
      "text/plain": [
       "<matplotlib.collections.QuadMesh at 0x7f7827e19e90>"
      ]
     },
     "execution_count": 50,
     "metadata": {},
     "output_type": "execute_result"
    },
    {
     "data": {
      "image/png": "[encoded data removed]",
      "text/plain": [
       "<Figure size 640x480 with 1 Axes>"
      ]
     },
     "metadata": {},
     "output_type": "display_data"
    }
   ],
   "source": [
    "plt.pcolormesh(X_arr[x_min-1:x_max+1], Y_arr[y_min-1:y_max+1], template)"
   ]
  },
  {
   "cell_type": "code",
   "execution_count": 33,
   "id": "512d9b97-d76b-45b5-9bd7-cd6542650f05",
   "metadata": {},
   "outputs": [],
   "source": [
    "inversion = Inversion_inputs(gdf_list, urls)"
   ]
  },
  {
   "cell_type": "code",
   "execution_count": 37,
   "id": "04231408-1534-4b5e-9f8b-aec5c66aea22",
   "metadata": {},
   "outputs": [
    {
     "data": {
      "text/plain": [
       "{'zarr_store': None,\n",
       " 'dates_noinv': None,\n",
       " 'A_m': None,\n",
       " 'reg_mat_Inv': None,\n",
       " 'mission': None,\n",
       " 'index_sort': None,\n",
       " 'inds_mission': None,\n",
       " 'dates': None,\n",
       " 'ind_tot': None,\n",
       " 'valid_idx': None,\n",
       " 'proj_cube': None,\n",
       " 'mask_dates': None}"
      ]
     },
     "execution_count": 37,
     "metadata": {},
     "output_type": "execute_result"
    }
   ],
   "source": [
    "inversion.data_dict['s3://its-live-data/datacubes/v2/N50W140/ITS_LIVE_vel_EPSG3413_G0120_X-3350000_Y350000.zarr']['zarr_store']"
   ]
  },
  {
   "cell_type": "code",
   "execution_count": 28,
   "id": "e72ba260-a1fe-4b1f-8347-d44b699d80cd",
   "metadata": {},
   "outputs": [
    {
     "data": {
      "text/plain": [
       "array([17334.35497882, 18259.35335869, 18997.36105568, ...,\n",
       "       16750.85113548, 16669.85469784, 18643.84662629])"
      ]
     },
     "execution_count": 28,
     "metadata": {},
     "output_type": "execute_result"
    }
   ],
   "source": [
    "inversion.data_dict['s3://its-live-data/datacubes/v2/N50W130/ITS_LIVE_vel_EPSG3413_G0120_X-3350000_Y250000.zarr']['zarr_store']['mid_date'][:]\n"
   ]
  },
  {
   "cell_type": "code",
   "execution_count": null,
   "id": "b20bf382-f2b2-4ee0-a48b-02bc8af879d5",
   "metadata": {},
   "outputs": [],
   "source": [
    "data_dict[urls[url]]['zarr_store']"
   ]
  },
  {
   "cell_type": "code",
   "execution_count": 40,
   "id": "fb41cc08-dc2d-4580-8209-62743bd131c7",
   "metadata": {},
   "outputs": [
    {
     "name": "stderr",
     "output_type": "stream",
     "text": [
      "  0%|          | 0/4 [00:00<?, ?it/s]\n"
     ]
    },
    {
     "ename": "NameError",
     "evalue": "name 'data_dict' is not defined",
     "output_type": "error",
     "traceback": [
      "\u001b[0;31m---------------------------------------------------------------------------\u001b[0m",
      "\u001b[0;31mNameError\u001b[0m                                 Traceback (most recent call last)",
      "Cell \u001b[0;32mIn[40], line 1\u001b[0m\n\u001b[0;32m----> 1\u001b[0m design_matrices_dict \u001b[38;5;241m=\u001b[39m inversion\u001b[38;5;241m.\u001b[39mdesign_matrices()\n",
      "Cell \u001b[0;32mIn[38], line 136\u001b[0m, in \u001b[0;36mInversion_inputs.design_matrices\u001b[0;34m(self)\u001b[0m\n\u001b[1;32m    132\u001b[0m urls \u001b[38;5;241m=\u001b[39m \u001b[38;5;28mself\u001b[39m\u001b[38;5;241m.\u001b[39mmod_urls\n\u001b[1;32m    134\u001b[0m \u001b[38;5;28;01mfor\u001b[39;00m i \u001b[38;5;129;01min\u001b[39;00m tqdm(\u001b[38;5;28mrange\u001b[39m(\u001b[38;5;28mlen\u001b[39m(urls))):\n\u001b[0;32m--> 136\u001b[0m     \u001b[38;5;28mprint\u001b[39m(data_dict[urls[url]][\u001b[38;5;124m'\u001b[39m\u001b[38;5;124mzarr_store\u001b[39m\u001b[38;5;124m'\u001b[39m])\n\u001b[1;32m    137\u001b[0m     url \u001b[38;5;241m=\u001b[39m \u001b[38;5;28mself\u001b[39m\u001b[38;5;241m.\u001b[39mmod_urls[i]\n\u001b[1;32m    138\u001b[0m     \u001b[38;5;28mprint\u001b[39m(url)\n",
      "\u001b[0;31mNameError\u001b[0m: name 'data_dict' is not defined"
     ]
    }
   ],
   "source": [
    "design_matrices_dict = inversion.design_matrices()"
   ]
  },
  {
   "cell_type": "code",
   "execution_count": 103,
   "id": "5c609793-3b56-4f3a-b5ed-ece087867d4d",
   "metadata": {},
   "outputs": [
    {
     "ename": "TypeError",
     "evalue": "'NoneType' object is not subscriptable",
     "output_type": "error",
     "traceback": [
      "\u001b[0;31m---------------------------------------------------------------------------\u001b[0m",
      "\u001b[0;31mTypeError\u001b[0m                                 Traceback (most recent call last)",
      "Cell \u001b[0;32mIn[103], line 1\u001b[0m\n\u001b[0;32m----> 1\u001b[0m inversion\u001b[38;5;241m.\u001b[39mdata_dict[\u001b[38;5;124m'\u001b[39m\u001b[38;5;124ms3://its-live-data/datacubes/v2/N50W130/ITS_LIVE_vel_EPSG3413_G0120_X-3350000_Y250000.zarr\u001b[39m\u001b[38;5;124m'\u001b[39m][\u001b[38;5;124m'\u001b[39m\u001b[38;5;124mzarr_store\u001b[39m\u001b[38;5;124m'\u001b[39m][\u001b[38;5;124m'\u001b[39m\u001b[38;5;124mmid_date\u001b[39m\u001b[38;5;124m'\u001b[39m]\n",
      "\u001b[0;31mTypeError\u001b[0m: 'NoneType' object is not subscriptable"
     ]
    }
   ],
   "source": [
    "inversion.data_dict['s3://its-live-data/datacubes/v2/N50W130/ITS_LIVE_vel_EPSG3413_G0120_X-3350000_Y250000.zarr']['zarr_store']['mid_date']"
   ]
  },
  {
   "cell_type": "code",
   "execution_count": 73,
   "id": "23020207-c20d-4371-b8bd-8a44f8443cff",
   "metadata": {},
   "outputs": [
    {
     "data": {
      "text/plain": [
       "{'zarr_store': None,\n",
       " 'dates_noinv': None,\n",
       " 'A_m': None,\n",
       " 'reg_mat_Inv': None,\n",
       " 'mission': None,\n",
       " 'index_sort': None,\n",
       " 'inds_mission': None,\n",
       " 'dates': None,\n",
       " 'ind_tot': None,\n",
       " 'valid_idx': None,\n",
       " 'proj_cube': None,\n",
       " 'mask_dates': None}"
      ]
     },
     "execution_count": 73,
     "metadata": {},
     "output_type": "execute_result"
    }
   ],
   "source": [
    "inversion.data_dict['s3://its-live-data/datacubes/v2/N50W130/ITS_LIVE_vel_EPSG3413_G0120_X-3350000_Y250000.zarr']"
   ]
  },
  {
   "cell_type": "code",
   "execution_count": 96,
   "id": "cec6fa61-a9da-4c1f-809c-e5d2d55c28f3",
   "metadata": {},
   "outputs": [
    {
     "ename": "NameError",
     "evalue": "name 'inds_mission' is not defined",
     "output_type": "error",
     "traceback": [
      "\u001b[0;31m---------------------------------------------------------------------------\u001b[0m",
      "\u001b[0;31mNameError\u001b[0m                                 Traceback (most recent call last)",
      "Cell \u001b[0;32mIn[96], line 3\u001b[0m\n\u001b[1;32m      1\u001b[0m urls \u001b[38;5;241m=\u001b[39m inversion\u001b[38;5;241m.\u001b[39mmod_urls\n\u001b[1;32m      2\u001b[0m \u001b[38;5;28;01mfor\u001b[39;00m url \u001b[38;5;129;01min\u001b[39;00m \u001b[38;5;28mrange\u001b[39m(\u001b[38;5;28mlen\u001b[39m(urls)):\n\u001b[0;32m----> 3\u001b[0m     mid_dates \u001b[38;5;241m=\u001b[39m np\u001b[38;5;241m.\u001b[39mdatetime64(\u001b[38;5;124m'\u001b[39m\u001b[38;5;124m1970-01-01\u001b[39m\u001b[38;5;124m'\u001b[39m) \u001b[38;5;241m+\u001b[39m np\u001b[38;5;241m.\u001b[39marray(inversion\u001b[38;5;241m.\u001b[39mdata_dict[urls[url]][\u001b[38;5;124m'\u001b[39m\u001b[38;5;124mzarr_store\u001b[39m\u001b[38;5;124m'\u001b[39m][\u001b[38;5;124m'\u001b[39m\u001b[38;5;124mmid_date\u001b[39m\u001b[38;5;124m'\u001b[39m][:], dtype\u001b[38;5;241m=\u001b[39m\u001b[38;5;124m'\u001b[39m\u001b[38;5;124mtimedelta64[D]\u001b[39m\u001b[38;5;124m'\u001b[39m)[inds_mission]\n",
      "\u001b[0;31mNameError\u001b[0m: name 'inds_mission' is not defined"
     ]
    }
   ],
   "source": [
    "urls = inversion.mod_urls\n",
    "for url in range(len(urls)):\n",
    "    mid_dates = np.datetime64('1970-01-01') + np.array(inversion.data_dict[urls[url]]['zarr_store']['mid_date'][:], dtype='timedelta64[D]')[inds_mission]"
   ]
  },
  {
   "cell_type": "code",
   "execution_count": 83,
   "id": "1f19bc19-82ee-40fb-9f74-3c6b5d7c2759",
   "metadata": {},
   "outputs": [],
   "source": [
    "#mid_dates = np.datetime64('1970-01-01') + np.array(inversion.data_dict['s3://its-live-data/datacubes/v2/N50W130/ITS_LIVE_vel_EPSG3413_G0120_X-3350000_Y250000.zarr']['zarr_store']['mid_date'][:], dtype='timedelta64[D]')\n",
    "\n",
    "inversion.data_dict['s3://its-live-data/datacubes/v2/N50W130/ITS_LIVE_vel_EPSG3413_G0120_X-3350000_Y250000.zarr']['zarr_store']\n"
   ]
  },
  {
   "cell_type": "code",
   "execution_count": null,
   "id": "b6051b2c-46ad-4df0-b3f7-dd8cda267490",
   "metadata": {},
   "outputs": [],
   "source": []
  },
  {
   "cell_type": "code",
   "execution_count": 17,
   "id": "243a75a0-095d-4da9-9c34-19c189ddf7c8",
   "metadata": {},
   "outputs": [],
   "source": [
    "#| export \n",
    "def get_extents(url, gpdf, X_tot, Y_tot, X_valid, Y_valid, data_dict):# mission, lamb, derivative, day_interval):\n",
    "    \n",
    "    #url = input_data_dict['urls'].iloc[0]\n",
    "    \n",
    "    # Open the zarr files\n",
    "    fs = s3fs.S3FileSystem(anon=True)\n",
    "    store = zarr.open(s3fs.S3Map(url, s3=fs))\n",
    "   \n",
    "    # Update the dictionnary\n",
    "    data_dict[url]['zarr_store'] = store\n",
    "\n",
    "    # Get the cube's projection\n",
    "    proj_cube = int(store.attrs['projection'])\n",
    "\n",
    "    # Load X and Y of the dataset\n",
    "    X = store['x'][:]\n",
    "    Y = store['y'][:]\n",
    "\n",
    "    # Store the arrays in the total list\n",
    "    X_tot.append(X)\n",
    "    Y_tot.append(Y)\n",
    "\n",
    "    # Load dimensions\n",
    "    shape_arr = store['v'].shape\n",
    "    \n",
    "    Xs, Ys = np.meshgrid(X, Y)\n",
    "    points = np.array((Xs.flatten(), Ys.flatten())).T\n",
    "\n",
    "    idx_valid = []\n",
    "    \n",
    "    for b in range(len(gpdf)):\n",
    "        mpath = mplp.Path(list(gpdf[b]['geometry'].to_crs(np.int(proj_cube)).boundary.explode(index_parts = True).iloc[0].coords))\n",
    "        glacier_mask = mpath.contains_points(points).reshape(Xs.shape)\n",
    "        # Grab the indices of the points inside the glacier\n",
    "        idx_valid.append(np.array(np.where(glacier_mask==True)))\n",
    "        \n",
    "    idx_valid = np.hstack(idx_valid)\n",
    "    # Store the valid indices\n",
    "    data_dict[url]['valid_idx'] = idx_valid\n",
    "    \n",
    "    # Store the cube projection\n",
    "    data_dict[url]['proj_cube'] = proj_cube\n",
    "    \n",
    "    # Store the coordinates of the valid Xs and Ys\n",
    "    X_valid.append([Xs[idx_valid[0][i], idx_valid[1][i]] for i in range(len(idx_valid[0]))])\n",
    "    Y_valid.append([Ys[idx_valid[0][i], idx_valid[1][i]] for i in range(len(idx_valid[0]))])\n",
    "    \n",
    "    return X_tot, Y_tot, X_valid, Y_valid"
   ]
  },
  {
   "cell_type": "code",
   "execution_count": 18,
   "id": "73cc7f64-3925-46c3-824d-df9bcae5adcd",
   "metadata": {},
   "outputs": [],
   "source": [
    "#| export\n",
    "def design_matrices(url, mission, lamb, derivative, day_interval, sdate, edate):\n",
    "\n",
    "    # If you passed 'mission' as an argument, it grabs the appropriate values\n",
    "    if mission:\n",
    "        # Get the indices of the mission\n",
    "        filt1 = np.where(data_dict[urls[url]]['zarr_store']['satellite_img1'][:] == mission)\n",
    "        filt2 = np.where(data_dict[urls[url]]['zarr_store']['satellite_img2'][:] == mission)\n",
    "        inds_mission = np.intersect1d(filt1[0],filt2[0])\n",
    "\n",
    "        # Grab only the indices corresponding to the missions\n",
    "        mid_dates = np.datetime64('1970-01-01') + np.array(data_dict[urls[url]]['zarr_store']['mid_date'][:], dtype='timedelta64[D]')[inds_mission]\n",
    "        im1 = np.datetime64('1970-01-01') + np.array(data_dict[urls[url]]['zarr_store']['acquisition_date_img1'][:], dtype='timedelta64[D]')[inds_mission]\n",
    "        im2 = np.datetime64('1970-01-01') + np.array(data_dict[urls[url]]['zarr_store']['acquisition_date_img2'][:], dtype='timedelta64[D]')[inds_mission]\n",
    "    else:\n",
    "        # If 'None' was passed as a mission argument, we grab all the available data.\n",
    "        inds_mission = None\n",
    "        mid_dates = np.datetime64('1970-01-01') + np.array(data_dict[urls[url]]['zarr_store']['mid_date'][:], dtype='timedelta64[D]')\n",
    "        im1 = np.datetime64('1970-01-01') + np.array(data_dict[urls[url]]['zarr_store']['acquisition_date_img1'][:], dtype='timedelta64[D]')\n",
    "        im2 = np.datetime64('1970-01-01') + np.array(data_dict[urls[url]]['zarr_store']['acquisition_date_img2'][:], dtype='timedelta64[D]')\n",
    "    \n",
    "    # Get some arrays\n",
    "    index_sort = np.argsort(np.datetime64('1970-01-01') + np.array(data_dict[urls[url]]['zarr_store']['mid_date'][:], dtype='timedelta64[D]'))\n",
    "    mid_dates = mid_dates[index_sort]\n",
    "    im1 = im1[index_sort]\n",
    "    im2 = im2[index_sort]\n",
    "\n",
    "    # If sdate is later than the first available date, we find its corresponding index\n",
    "    try:\n",
    "        sdate_ind = np.where(mid_dates >= sdate)[0][0]\n",
    "    except:\n",
    "        sdate_ind = 0\n",
    "    \n",
    "    # If edate is sooner than the last available date, we find its corresponding index\n",
    "    try:\n",
    "        edate_ind = np.where(mid_dates > edate)[0][0]\n",
    "    except:\n",
    "        edate_ind = None\n",
    "    \n",
    "    # Create a False/True mask where True if the date is in the desired range\n",
    "    mask_dates = np.full(mid_dates.shape, False)\n",
    "    mask_dates[sdate_ind:edate_ind] = True\n",
    "\n",
    "    # Keep only the values within the desired range\n",
    "    mid_dates = mid_dates[mask_dates]\n",
    "    im1 = im1[mask_dates]\n",
    "    im2 = im2[mask_dates]\n",
    "\n",
    "    # Check which im is the smallest (first image, it changes depending on ITS_LIVE's version)\n",
    "    if im2[0] < im1[0]:\n",
    "        temp = im1\n",
    "        im1 = im2\n",
    "        im2 = temp\n",
    "\n",
    "    # Create the date array with the new interval dates\n",
    "    dates_nonum = np.arange(mid_dates[0], mid_dates[-1], timedelta(days=day_interval)).astype(np.datetime64)\n",
    "\n",
    "    # Convert to numerical\n",
    "    dates = (dates_nonum - np.datetime64('1970-01-01T00:00:00Z'))/np.timedelta64(1, 's')\n",
    "    dt_start = (im1 - np.datetime64('1970-01-01T00:00:00Z'))/np.timedelta64(1, 's')\n",
    "    dt_end = (im2 - np.datetime64('1970-01-01T00:00:00Z'))/np.timedelta64(1, 's')\n",
    "\n",
    "    # --------------- DESIGN MATRICES --------------- \n",
    "\n",
    "    # Initialize matrix\n",
    "    A_m = np.zeros((mid_dates.shape[0],dates.shape[0]))\n",
    "\n",
    "    # We have to iterate through the satellite pairs that actually gave a measurement\n",
    "    for j in range(1, len(mid_dates)):\n",
    "    # current contents of your for loop\n",
    "\n",
    "        # Find the middate that is the closest to dt_start (supequal)\n",
    "        start = np.argmin(np.abs(dates-dt_start[j]))\n",
    "\n",
    "        # Find the middate that is closest to dt_end (infequal)\n",
    "        end = np.argmin(dt_end[j] - dates[dates <= dt_end[j]])\n",
    "\n",
    "        # Divide 1 by the amount of middates between d_start and d_end \n",
    "        if end == A_m.shape[1]-1: # If the mid_date is at the end of the array (acquisition im2 equals last mid_date)\n",
    "            A_m[j, start:] = 1/(1+A_m.shape[1]-start)\n",
    "        else: # If the measurement is in A's bounds temporally (we can have a satellite pair with the 2nd pair being outside of our mid_dates)\n",
    "            A_m[j, start:end+1] = 1/(1+end-start) # Attribute to each pixel in the timescale of the satellite pair, the 1/amount of pixel in the pairmid_dates.shape\n",
    "\n",
    "\n",
    "    # Initialize regularization matrix\n",
    "    if derivative == 1:\n",
    "        reg_mat_Inv = np.zeros((A_m.shape[1] -1, A_m.shape[1]))\n",
    "\n",
    "        for j in range(A_m.shape[1] -1):\n",
    "            reg_mat_Inv[j, j] = -lamb/day_interval\n",
    "            reg_mat_Inv[j, j+1] = lamb/day_interval\n",
    "\n",
    "    elif derivative == 2:\n",
    "        # Initialize 2nd derivative regularization matrix\n",
    "        reg_mat_Inv = np.zeros((A_m.shape[1] -1, A_m.shape[1]))\n",
    "\n",
    "        for j in range(A_m.shape[1] -2):\n",
    "            reg_mat_Inv[j, j] = lamb/(day_interval**2)\n",
    "            reg_mat_Inv[j, j+1] = -2*lamb/(day_interval**2)\n",
    "            reg_mat_Inv[j, j+2] = lamb/(day_interval**2)\n",
    "            \n",
    "    data_dict[urls[url]]['A_m'] = A_m\n",
    "    data_dict[urls[url]]['reg_mat_Inv'] = reg_mat_Inv\n",
    "    data_dict[urls[url]]['mission'] = mission\n",
    "    data_dict[urls[url]]['index_sort'] = index_sort\n",
    "    data_dict[urls[url]]['inds_mission'] = inds_mission\n",
    "    data_dict[urls[url]]['dates'] = dates_nonum\n",
    "    data_dict[urls[url]]['dates_noinv'] = mid_dates\n",
    "    data_dict[urls[url]]['mask_dates']= mask_dates\n",
    "            \n",
    "    return data_dict"
   ]
  },
  {
   "cell_type": "code",
   "execution_count": 19,
   "id": "365519af-4ce6-4779-90ba-dee7c3eaf864",
   "metadata": {},
   "outputs": [],
   "source": [
    "#| export\n",
    "def Inv_reg(vObs, data, fillvalue):\n",
    "    \n",
    "    # Grab observed velocities\n",
    "    vObs = vObs[data['index_sort']]\n",
    "    vObs = vObs[data['mask_dates']]\n",
    "    \n",
    "    # Filter out the missions we don't want\n",
    "    if mission:\n",
    "        vObs = vObs[data['inds_mission']]  \n",
    "    \n",
    "    # Mask the NaNs so we don't compute the inversion for empty rows\n",
    "    mask = np.logical_not(np.equal(vObs, fillvalue))\n",
    "    \n",
    "    # Create a masked velocity vector\n",
    "    vObs_masked = vObs[mask]\n",
    "    \n",
    "    # Append regularization terms to dObs\n",
    "    vObs_masked= np.hstack((vObs_masked, np.zeros((data['reg_mat_Inv'].shape[0]))))\n",
    "     \n",
    "    # Assemble the design matrix\n",
    "    A_des = np.vstack((data['A_m'][mask], data['reg_mat_Inv']))\n",
    "    \n",
    "    # Invert the velocities\n",
    "    vInv = np.linalg.solve(A_des.T@A_des,A_des.T@vObs_masked)\n",
    "    #vInv = scipy.linalg.solve(A_des.T@A_des,A_des.T@vObs_masked, lower = False, check_finite=False, assume_a='gen')\n",
    "    \n",
    "    return vInv\n"
   ]
  },
  {
   "cell_type": "code",
   "execution_count": 20,
   "id": "ee92697d-4879-4158-ad7d-402ca6879bd0",
   "metadata": {},
   "outputs": [],
   "source": [
    "#| export \n",
    "try:\n",
    "    data_dict, X_valid, Y_valid, X_tot, Y_tot = create_data_dict(urls)\n",
    "\n",
    "    for url in tqdm(range(len(urls))):\n",
    "        X_tot, Y_tot, X_valid, Y_valid = get_extents(urls[url], gpdf_ls, X_tot, Y_tot, X_valid, Y_valid, data_dict)\n",
    "\n",
    "    mission = None # 'None' if you want all the data, 'S1' for Sentinel-1 only, 'L' for Landsat only, etc.. .\n",
    "    lamb = 10 # Smoothing coefficient: the higher the value, the more the inversion favors a smooth output. BAD for surging glaciers, GOOD for non-surging glaciers\n",
    "    derivative = 2 # Derivative degree for the inversion. Doesn't change much unless you have a specific reasong to choose 1 or 2 (1st or 2nd derivative)\n",
    "    day_interval = 12 # Amount of days in between each inversion value. The higher, the faster the inversion. But you also lose in temporal resolution. 12 here because Sentinel-1 repeat-time is 12.\n",
    "    sdate = None # Start date, format 'YYYY-MM-DD' OR None if you want to grab the entire timeseries available\n",
    "    edate = None # End date, format 'YYYY-MM-DD' OR None if you want to grab the entire timeseries available\n",
    "    GPU = True # None if you want to run it on CPU\n",
    "\n",
    "    # Create Eastings and Northings arrays based on the Eastings and Northings of the datacubes\n",
    "    X_arr = np.unique(np.hstack(X_tot))\n",
    "    Y_arr = np.unique(np.hstack(Y_tot))\n",
    "    \n",
    "    # Crop to the GOI (so we avoid over-filling our matrix with NaNs)\n",
    "    x_min = np.where(np.min(np.hstack(X_valid)) == X_arr)[0][0]\n",
    "    x_max = np.where(np.max(np.hstack(X_valid)) == X_arr)[0][0]\n",
    "    y_min = np.where(np.min(np.hstack(Y_valid)) == Y_arr)[0][0]\n",
    "    y_max = np.where(np.max(np.hstack(Y_valid)) == Y_arr)[0][0]\n",
    "    \n",
    "    \n",
    "    # And now search the indices corresponding to the coordinates \n",
    "    x_matches = np.hstack([[np.where(i == X_arr[min(x_min-1, x_max+1):max(x_min-1, x_max+1)])[0][0] for i in row] for row in X_valid]).astype(int)\n",
    "    y_matches = np.hstack([[np.where(i == Y_arr[min(y_min-1, y_max+1):max(y_min-1, y_max+1)])[0][0] for i in row] for row in Y_valid]).astype(int)\n",
    "    \n",
    "    # Create an array representing the glacier\n",
    "    template = np.zeros((len(Y_arr[min(y_min-1, y_max+1):max(y_min-1, y_max+1)]), len( X_arr[min(x_min-1, x_max+1):max(x_min-1, x_max+1)])))\n",
    "    template[y_matches, x_matches] = 1\n",
    "except:\n",
    "    pass"
   ]
  },
  {
   "cell_type": "code",
   "execution_count": 21,
   "id": "ae8cc3ca-04fc-44d5-91b9-d2cbfad6a49d",
   "metadata": {},
   "outputs": [],
   "source": [
    "try:\n",
    "    plt.pcolormesh(X_arr[x_min-1:x_max+1], Y_arr[y_min-1:y_max+1], template)\n",
    "except:\n",
    "    pass"
   ]
  },
  {
   "cell_type": "code",
   "execution_count": 22,
   "id": "970913b9-af5c-432a-9918-57f5165a3772",
   "metadata": {},
   "outputs": [
    {
     "name": "stderr",
     "output_type": "stream",
     "text": [
      "  0%|          | 0/1 [00:00<?, ?it/s]\n"
     ]
    }
   ],
   "source": [
    "#| export\n",
    "try:\n",
    "\n",
    "    for i in tqdm(range(len(urls))):\n",
    "        design_matrices(i, mission, lamb, derivative, day_interval)\n",
    "except:\n",
    "    pass"
   ]
  },
  {
   "cell_type": "markdown",
   "id": "b6798b2f-40d5-418f-aba7-a6937f914a1b",
   "metadata": {},
   "source": [
    "### Gather the dates for each datacube. They might not always correspond."
   ]
  },
  {
   "cell_type": "code",
   "execution_count": 23,
   "id": "1e9253f0-0b28-4110-9c89-a868866399a6",
   "metadata": {},
   "outputs": [],
   "source": [
    "#| export\n",
    "try:\n",
    "    # Get the total amount of temporal steps\n",
    "    ind_tot = []\n",
    "    for i in urls:\n",
    "        ind_tot.append(data_dict[i]['dates'])\n",
    "    \n",
    "    ind_tot = np.unique(np.hstack(ind_tot))\n",
    "    \n",
    "    for i in urls:\n",
    "        data_dict[i]['ind_tot'] = np.array([np.where(c == ind_tot)[0][0] for c in data_dict[urls[0]]['dates']])\n",
    "except:\n",
    "    pass"
   ]
  },
  {
   "cell_type": "markdown",
   "id": "c2881fd9-41b1-48c2-95eb-f1f2f32d5ffe",
   "metadata": {},
   "source": [
    "### Calculate the point-inversion for all the GOI pixels in the datacubes for Vx and Vy."
   ]
  },
  {
   "cell_type": "code",
   "execution_count": 24,
   "id": "eb2b67c6-bbe5-4997-9081-5d219cea955c",
   "metadata": {},
   "outputs": [
    {
     "ename": "NameError",
     "evalue": "name 'GPU' is not defined",
     "output_type": "error",
     "traceback": [
      "\u001b[0;31m---------------------------------------------------------------------------\u001b[0m",
      "\u001b[0;31mNameError\u001b[0m                                 Traceback (most recent call last)",
      "Cell \u001b[0;32mIn[24], line 2\u001b[0m\n\u001b[1;32m      1\u001b[0m \u001b[38;5;66;03m#| export\u001b[39;00m\n\u001b[0;32m----> 2\u001b[0m \u001b[38;5;28;01mif\u001b[39;00m GPU:\n\u001b[1;32m      4\u001b[0m     \u001b[38;5;28;01mimport\u001b[39;00m \u001b[38;5;21;01mtorch\u001b[39;00m\n\u001b[1;32m      6\u001b[0m     device \u001b[38;5;241m=\u001b[39m torch\u001b[38;5;241m.\u001b[39mdevice(\u001b[38;5;124m\"\u001b[39m\u001b[38;5;124mcuda:0\u001b[39m\u001b[38;5;124m\"\u001b[39m \u001b[38;5;28;01mif\u001b[39;00m torch\u001b[38;5;241m.\u001b[39mcuda\u001b[38;5;241m.\u001b[39mis_available() \u001b[38;5;28;01melse\u001b[39;00m \u001b[38;5;124m\"\u001b[39m\u001b[38;5;124mcpu\u001b[39m\u001b[38;5;124m\"\u001b[39m)\n",
      "\u001b[0;31mNameError\u001b[0m: name 'GPU' is not defined"
     ]
    }
   ],
   "source": [
    "#| export\n",
    "if GPU:\n",
    "\n",
    "    import torch\n",
    "\n",
    "    device = torch.device(\"cuda:0\" if torch.cuda.is_available() else \"cpu\")\n",
    "    '''\n",
    "    # Migrate to torch & GPU\n",
    "    for c in range(len(urls)):\n",
    "        data_dict[urls[c]]['A_m'] = torch.from_numpy(data_dict[urls[c]]['A_m']).to(device)\n",
    "        data_dict[urls[c]]['reg_mat_Inv'] = torch.from_numpy(data_dict[urls[c]]['reg_mat_Inv']).to(device)\n",
    "    '''\n",
    "    \n",
    "    def Inv_reg_torch(vObs, data, fillvalue, device):\n",
    "     \n",
    "        # Grab observed velocities\n",
    "        vObs = vObs[data['index_sort']]\n",
    "        vObs = vObs[data['mask_dates']]\n",
    "        \n",
    "        # Filter out the missions we don't want\n",
    "        if mission:\n",
    "            vObs = vObs[data['inds_mission']]  \n",
    "        \n",
    "        # Mask the NaNs so we don't compute the inversion for empty rows\n",
    "        mask = np.logical_not(np.equal(vObs, fillvalue))\n",
    "        \n",
    "        # Create a masked velocity vector\n",
    "        vObs_masked = torch.from_numpy(vObs[mask])\n",
    "        \n",
    "        # Append regularization terms to dObs\n",
    "        vObs_masked= torch.hstack((vObs_masked, torch.zeros((data['reg_mat_Inv'].shape[0])))).to(device)\n",
    "         \n",
    "        # Assemble the design matrix\n",
    "        A_des = torch.vstack((data['A_m'][mask], data['reg_mat_Inv']))\n",
    "        \n",
    "        # Invert the velocities\n",
    "        vInv = torch.linalg.solve(A_des.T@A_des,A_des.T@vObs_masked.double())\n",
    "        \n",
    "        return vInv\n",
    "    \n",
    "    vxInv = torch.zeros((len(ind_tot), template.shape[0], template.shape[1])).double().to(device)\n",
    "    vyInv = torch.zeros((vxInv.shape)).double().to(device)\n",
    "    \n",
    "    # Define the total number of iterations\n",
    "    total_iterations = len(y_matches)\n",
    "    \n",
    "    # Create a tqdm object with dynamic_ncols=False to suppress intermediate updates\n",
    "    # Create a tqdm object with a larger mininterval to suppress intermediate updates\n",
    "    progress_bar = tqdm(total=total_iterations, dynamic_ncols=False, mininterval=1.0)\n",
    "    \n",
    "    \n",
    "    i = 0\n",
    "    for c in range(len(urls)):\n",
    "        valid_idx = data_dict[urls[c]]['valid_idx']\n",
    "        fillvx = data_dict[urls[c]]['zarr_store']['vx'][:, valid_idx[0][0], valid_idx[1][0]].min() #data_dict[urls[c]]['zarr_store']['vx'].fill_value   fill_value is wrong in the new ITS_LIVE version\n",
    "        fillvy = data_dict[urls[c]]['zarr_store']['vx'][:, valid_idx[0][0], valid_idx[1][0]].min() #data_dict[urls[c]]['zarr_store']['vy'].fill_value\n",
    "    \n",
    "        for V in range(len(valid_idx[0])):\n",
    "            vxObs = data_dict[urls[c]]['zarr_store']['vx'][:, valid_idx[0][V], valid_idx[1][V]]\n",
    "            vyObs = data_dict[urls[c]]['zarr_store']['vy'][:, valid_idx[0][V], valid_idx[1][V]]\n",
    "            vxInv[data_dict[urls[c]]['ind_tot'], y_matches[i], x_matches[i]] = Inv_reg_torch(vxObs, data_dict[urls[c]], fillvx, device)\n",
    "            vyInv[data_dict[urls[c]]['ind_tot'], y_matches[i], x_matches[i]] = Inv_reg_torch(vyObs, data_dict[urls[c]], fillvy, device)\n",
    "            \n",
    "            i += 1\n",
    "            progress_bar.update(1)  # Update the progress bar\n",
    "\n",
    "            if i%100 == 0:\n",
    "                with open(\"Counter.txt\", \"w\") as text_file:\n",
    "                    text_file.write(f\"Counter: {i}\")\n",
    "            \n",
    "            if i%5000 == 0:\n",
    "                \n",
    "                print(f\"Saved at {i}\")\n",
    "                # Get the names of all the glaciers in the datacube \n",
    "                #glac_names = np.hstack(np.array([glacier.id.values[0] for glacier in gdf_list]))\n",
    "                #glac_names = '-'.join(glac_names)\n",
    "\n",
    "                # Gather the projection of the cube\n",
    "                #glac_proj = str(np.unique(np.hstack([data_dict[urls[i]]['proj_cube'] for i in range(len(urls))]))[0])\n",
    "\n",
    "                # Create a new dataset with vx and vy, using attributes from 'ds'\n",
    "                new_ds = xr.Dataset(\n",
    "                    {\n",
    "                        \"vx\": ([\"time\", \"y\", \"x\"], vxInv.cpu().numpy()),\n",
    "                        \"vy\": ([\"time\", \"y\", \"x\"], vyInv.cpu().numpy()),\n",
    "                    },\n",
    "                    coords={\n",
    "                        \"time\": ind_tot,\n",
    "                        \"x\": X_arr[x_min-1:x_max+1],\n",
    "                        \"y\": Y_arr[y_min-1:y_max+1],\n",
    "                    },\n",
    "                    attrs=data_dict[urls[0]]['zarr_store'].attrs,\n",
    "                ).chunk({'time': 1, 'x': 100, 'y': 100})\n",
    "\n",
    "                from dask.diagnostics import ProgressBar\n",
    "                write_job = new_ds.to_netcdf(f'Inverted_Cube.nc', compute=False)\n",
    "                with ProgressBar():\n",
    "                    print(f\"Writing to {'Inverted_Cube.nc'}\")\n",
    "                    write_job.compute()\n",
    "    \n",
    "    # Close the progress bar\n",
    "    progress_bar.close()\n",
    "\n",
    "    # Save the dataset\n",
    "    new_ds = xr.Dataset(\n",
    "        {\n",
    "            \"vx\": ([\"time\", \"y\", \"x\"], vxInv.cpu().numpy()),\n",
    "            \"vy\": ([\"time\", \"y\", \"x\"], vyInv.cpu().numpy()),\n",
    "        },\n",
    "        coords={\n",
    "            \"time\": ind_tot,\n",
    "            \"x\": X_arr[x_min-1:x_max+1],\n",
    "            \"y\": Y_arr[y_min-1:y_max+1],\n",
    "        },\n",
    "        attrs=data_dict[urls[0]]['zarr_store'].attrs,\n",
    "    ).chunk({'time': 1, 'x': 100, 'y': 100})\n",
    "    \n",
    "    from dask.diagnostics import ProgressBar\n",
    "    write_job = new_ds.to_netcdf(f'VelInv.nc', compute=False)\n",
    "    with ProgressBar():\n",
    "        print(f\"Writing to {'VelInv.nc'}\")\n",
    "        write_job.compute()\n",
    "\n",
    "\n",
    "\n",
    "else:\n",
    "    \n",
    "    vxInv = np.zeros((len(ind_tot), template.shape[0], template.shape[1]))\n",
    "    vyInv = np.zeros((vxInv.shape))\n",
    "    \n",
    "    # Define the total number of iterations\n",
    "    total_iterations = len(y_matches)\n",
    "    \n",
    "    # Create a tqdm object with dynamic_ncols=False to suppress intermediate updates\n",
    "    # Create a tqdm object with a larger mininterval to suppress intermediate updates\n",
    "    progress_bar = tqdm(total=total_iterations, dynamic_ncols=False, mininterval=1.0)\n",
    "    \n",
    "    \n",
    "    i = 0\n",
    "    for c in range(len(urls)):\n",
    "        valid_idx = data_dict[urls[c]]['valid_idx']\n",
    "        fillvx = data_dict[urls[c]]['zarr_store']['vx'][:, valid_idx[0][0], valid_idx[1][0]].min() #data_dict[urls[c]]['zarr_store']['vx'].fill_value   fill_value is wrong in the new ITS_LIVE version\n",
    "        fillvy = data_dict[urls[c]]['zarr_store']['vx'][:, valid_idx[0][0], valid_idx[1][0]].min() #data_dict[urls[c]]['zarr_store']['vy'].fill_value\n",
    "        \n",
    "        for V in range(len(valid_idx[0])):\n",
    "            vxObs = data_dict[urls[c]]['zarr_store']['vx'][:, valid_idx[0][V], valid_idx[1][V]]\n",
    "            vyObs = data_dict[urls[c]]['zarr_store']['vy'][:, valid_idx[0][V], valid_idx[1][V]]\n",
    "            vxInv[data_dict[urls[c]]['ind_tot'], y_matches[i], x_matches[i]] = Inv_reg(vxObs, data_dict[urls[c]], fillvx)\n",
    "            vyInv[data_dict[urls[c]]['ind_tot'], y_matches[i], x_matches[i]] = Inv_reg(vyObs, data_dict[urls[c]], fillvy)\n",
    "            \n",
    "            i += 1\n",
    "            if i%100 == 0:\n",
    "                with open(\"Counter.txt\", \"w\") as text_file:\n",
    "                    text_file.write(f\"Counter: {i}\")\n",
    "            \n",
    "            if i%10000 == 0:\n",
    "                \n",
    "                print(f\"Saved at {i}\")\n",
    "                # Get the names of all the glaciers in the datacube \n",
    "                #glac_names = np.hstack(np.array([glacier.id.values[0] for glacier in gdf_list]))\n",
    "                #glac_names = '-'.join(glac_names)\n",
    "\n",
    "                # Gather the projection of the cube\n",
    "                #glac_proj = str(np.unique(np.hstack([data_dict[urls[i]]['proj_cube'] for i in range(len(urls))]))[0])\n",
    "\n",
    "                # Create a new dataset with vx and vy, using attributes from 'ds'\n",
    "                new_ds = xr.Dataset(\n",
    "                    {\n",
    "                        \"vx\": ([\"time\", \"y\", \"x\"], vxInv),\n",
    "                        \"vy\": ([\"time\", \"y\", \"x\"], vyInv),\n",
    "                    },\n",
    "                    coords={\n",
    "                        \"time\": ind_tot,\n",
    "                        \"x\": X_arr[x_min-1:x_max+1],\n",
    "                        \"y\": Y_arr[y_min-1:y_max+1],\n",
    "                    },\n",
    "                    attrs=data_dict[urls[0]]['zarr_store'].attrs,\n",
    "                ).chunk({'time': 1, 'x': 100, 'y': 100})\n",
    "\n",
    "                from dask.diagnostics import ProgressBar\n",
    "                write_job = new_ds.to_netcdf(f'Inverted_Cube.nc', compute=False)\n",
    "                with ProgressBar():\n",
    "                    print(f\"Writing to {'Inverted_Cube.nc'}\")\n",
    "                    write_job.compute()\n",
    "            progress_bar.update(1)  # Update the progress bar\n",
    "    \n",
    "    # Close the progress bar\n",
    "    progress_bar.close()\n",
    "\n",
    "    # Save the dataset\n",
    "    new_ds = xr.Dataset(\n",
    "        {\n",
    "            \"vx\": ([\"time\", \"y\", \"x\"], vxInv),\n",
    "            \"vy\": ([\"time\", \"y\", \"x\"], vyInv),\n",
    "        },\n",
    "        coords={\n",
    "            \"time\": ind_tot,\n",
    "            \"x\": X_arr[x_min-1:x_max+1],\n",
    "            \"y\": Y_arr[y_min-1:y_max+1],\n",
    "        },\n",
    "        attrs=data_dict[urls[0]]['zarr_store'].attrs,\n",
    "    ).chunk({'time': 1, 'x': 100, 'y': 100})\n",
    "\n",
    "    from dask.diagnostics import ProgressBar\n",
    "    write_job = new_ds.to_netcdf(f'Inverted_Cube.nc', compute=False)\n",
    "    with ProgressBar():\n",
    "        print(f\"Writing to {'Inverted_Cube.nc'}\")\n",
    "        write_job.compute()"
   ]
  },
  {
   "cell_type": "markdown",
   "id": "737496d2-2194-4223-8295-4e0e4828f365",
   "metadata": {},
   "source": [
    "### Save the results in a netcdf file"
   ]
  },
  {
   "cell_type": "code",
   "execution_count": 32,
   "id": "dda34c8d-3abb-4d46-bab7-7e52c8ccd0bc",
   "metadata": {},
   "outputs": [],
   "source": [
    "#| export\n",
    "# Create a new dataset with vx and vy, using attributes from 'ds'\n",
    "try:\n",
    "    new_ds = xr.Dataset(\n",
    "        {\n",
    "            \"vx\": ([\"time\", \"y\", \"x\"], vxInv),\n",
    "            \"vy\": ([\"time\", \"y\", \"x\"], vyInv),\n",
    "        },\n",
    "        coords={\n",
    "            \"time\": ind_tot,\n",
    "            \"x\": X_arr[x_min-1:x_max+1],\n",
    "            \"y\": Y_arr[y_min-1:y_max+1],\n",
    "        },\n",
    "        attrs=data_dict[urls[0]]['zarr_store'].attrs,\n",
    "    ).chunk({'time': 1, 'x': 100, 'y': 100})\n",
    "    \n",
    "    from dask.diagnostics import ProgressBar\n",
    "    write_job = new_ds.to_netcdf('Inverted_Cube.nc', compute=False)\n",
    "    with ProgressBar():\n",
    "        print(f\"Writing to {'Inverted_Cube.nc'}\")\n",
    "        write_job.compute()\n",
    "except:\n",
    "    pass"
   ]
  },
  {
   "cell_type": "code",
   "execution_count": 33,
   "id": "b9563817-8700-4ca5-9e33-71b3d1c34737",
   "metadata": {},
   "outputs": [],
   "source": [
    "try: \n",
    "    test = xr.open_dataset('Inverted_Cube.nc')\n",
    "except:\n",
    "    pass"
   ]
  }
 ],
 "metadata": {
  "kernelspec": {
   "display_name": "Python 3 (ipykernel)",
   "language": "python",
   "name": "python3"
  },
  "language_info": {
   "codemirror_mode": {
    "name": "ipython",
    "version": 3
   },
   "file_extension": ".py",
   "mimetype": "text/x-python",
   "name": "python",
   "nbconvert_exporter": "python",
   "pygments_lexer": "ipython3",
   "version": "3.11.4"
  }
 },
 "nbformat": 4,
 "nbformat_minor": 5
}
